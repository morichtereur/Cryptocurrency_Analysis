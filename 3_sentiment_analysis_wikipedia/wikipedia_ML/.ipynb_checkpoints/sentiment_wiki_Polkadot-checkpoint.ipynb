{
 "cells": [
  {
   "cell_type": "code",
   "execution_count": 1,
   "id": "82645e08",
   "metadata": {},
   "outputs": [
    {
     "name": "stdout",
     "output_type": "stream",
     "text": [
      "Requirement already satisfied: mwclient in /Users/moritzrichter/anaconda3/lib/python3.11/site-packages (0.10.1)\n",
      "Requirement already satisfied: requests-oauthlib in /Users/moritzrichter/anaconda3/lib/python3.11/site-packages (from mwclient) (1.3.1)\n",
      "Requirement already satisfied: six in /Users/moritzrichter/anaconda3/lib/python3.11/site-packages (from mwclient) (1.16.0)\n",
      "Requirement already satisfied: oauthlib>=3.0.0 in /Users/moritzrichter/anaconda3/lib/python3.11/site-packages (from requests-oauthlib->mwclient) (3.2.2)\n",
      "Requirement already satisfied: requests>=2.0.0 in /Users/moritzrichter/anaconda3/lib/python3.11/site-packages (from requests-oauthlib->mwclient) (2.31.0)\n",
      "Requirement already satisfied: charset-normalizer<4,>=2 in /Users/moritzrichter/anaconda3/lib/python3.11/site-packages (from requests>=2.0.0->requests-oauthlib->mwclient) (2.0.4)\n",
      "Requirement already satisfied: idna<4,>=2.5 in /Users/moritzrichter/anaconda3/lib/python3.11/site-packages (from requests>=2.0.0->requests-oauthlib->mwclient) (3.4)\n",
      "Requirement already satisfied: urllib3<3,>=1.21.1 in /Users/moritzrichter/anaconda3/lib/python3.11/site-packages (from requests>=2.0.0->requests-oauthlib->mwclient) (1.26.16)\n",
      "Requirement already satisfied: certifi>=2017.4.17 in /Users/moritzrichter/anaconda3/lib/python3.11/site-packages (from requests>=2.0.0->requests-oauthlib->mwclient) (2024.2.2)\n",
      "Note: you may need to restart the kernel to use updated packages.\n"
     ]
    }
   ],
   "source": [
    "pip install mwclient"
   ]
  },
  {
   "cell_type": "code",
   "execution_count": 2,
   "id": "82dc37e0-ec11-4616-90d9-132ba8932d6d",
   "metadata": {},
   "outputs": [],
   "source": [
    "import mwclient\n",
    "import time\n",
    "\n",
    "site = mwclient.Site('en.wikipedia.org')\n",
    "page = site.pages['Polkadot'] #Polkadot page"
   ]
  },
  {
   "cell_type": "code",
   "execution_count": 3,
   "id": "e2444104-73ac-45fe-85ff-fff2c3b10c38",
   "metadata": {},
   "outputs": [],
   "source": [
    "revs = list(page.revisions()) #page revision , big list of edits"
   ]
  },
  {
   "cell_type": "code",
   "execution_count": 4,
   "id": "e1072d34-8a28-4c15-8011-56cc189685ff",
   "metadata": {},
   "outputs": [
    {
     "data": {
      "text/plain": [
       "OrderedDict([('revid', 1218713785),\n",
       "             ('parentid', 1216972551),\n",
       "             ('user', 'Filedelinkerbot'),\n",
       "             ('timestamp',\n",
       "              time.struct_time(tm_year=2024, tm_mon=4, tm_mday=13, tm_hour=10, tm_min=52, tm_sec=52, tm_wday=5, tm_yday=104, tm_isdst=-1)),\n",
       "             ('comment',\n",
       "              'Bot: Removing [[Commons:File:Compound Finance.jpg]] ([[:File:Compound Finance.jpg|en]]). It was deleted on Commons by [[:Commons:User:Krd|Krd]] (No permission since 5 April 2024).')])"
      ]
     },
     "execution_count": 4,
     "metadata": {},
     "output_type": "execute_result"
    }
   ],
   "source": [
    "revs[0]"
   ]
  },
  {
   "cell_type": "code",
   "execution_count": 5,
   "id": "bbbd5144-9807-474d-a943-9c3b2c6bed15",
   "metadata": {},
   "outputs": [],
   "source": [
    "revs = sorted(revs, key=lambda rev: rev[\"timestamp\"]) "
   ]
  },
  {
   "cell_type": "code",
   "execution_count": 6,
   "id": "f5fb5065-8de9-4864-9fc4-c9fde1e24fb6",
   "metadata": {},
   "outputs": [
    {
     "data": {
      "text/plain": [
       "OrderedDict([('revid', 592567939),\n",
       "             ('parentid', 0),\n",
       "             ('user', 'Sanpitch'),\n",
       "             ('timestamp',\n",
       "              time.struct_time(tm_year=2014, tm_mon=1, tm_mday=27, tm_hour=1, tm_min=53, tm_sec=45, tm_wday=0, tm_yday=27, tm_isdst=-1)),\n",
       "             ('comment',\n",
       "              \"[[WP:AES|←]]Created page with '{{Infobox currency | image_1 =  | image_title_1 =  | image_width_1 =  | image_2 =  | image_title_2 =  | image_width_2 =  |issuing_authority = None. The Ethereum...'\")])"
      ]
     },
     "execution_count": 6,
     "metadata": {},
     "output_type": "execute_result"
    }
   ],
   "source": [
    "revs[0] #first entry"
   ]
  },
  {
   "cell_type": "code",
   "execution_count": 7,
   "id": "c60c953f",
   "metadata": {},
   "outputs": [
    {
     "name": "stdout",
     "output_type": "stream",
     "text": [
      "Requirement already satisfied: transformers in /Users/moritzrichter/anaconda3/lib/python3.11/site-packages (4.32.1)\n",
      "Requirement already satisfied: filelock in /Users/moritzrichter/anaconda3/lib/python3.11/site-packages (from transformers) (3.9.0)\n",
      "Requirement already satisfied: huggingface-hub<1.0,>=0.15.1 in /Users/moritzrichter/anaconda3/lib/python3.11/site-packages (from transformers) (0.15.1)\n",
      "Requirement already satisfied: numpy>=1.17 in /Users/moritzrichter/anaconda3/lib/python3.11/site-packages (from transformers) (1.24.3)\n",
      "Requirement already satisfied: packaging>=20.0 in /Users/moritzrichter/anaconda3/lib/python3.11/site-packages (from transformers) (23.1)\n",
      "Requirement already satisfied: pyyaml>=5.1 in /Users/moritzrichter/anaconda3/lib/python3.11/site-packages (from transformers) (6.0)\n",
      "Requirement already satisfied: regex!=2019.12.17 in /Users/moritzrichter/anaconda3/lib/python3.11/site-packages (from transformers) (2022.7.9)\n",
      "Requirement already satisfied: requests in /Users/moritzrichter/anaconda3/lib/python3.11/site-packages (from transformers) (2.31.0)\n",
      "Requirement already satisfied: tokenizers!=0.11.3,<0.14,>=0.11.1 in /Users/moritzrichter/anaconda3/lib/python3.11/site-packages (from transformers) (0.13.2)\n",
      "Requirement already satisfied: safetensors>=0.3.1 in /Users/moritzrichter/anaconda3/lib/python3.11/site-packages (from transformers) (0.3.2)\n",
      "Requirement already satisfied: tqdm>=4.27 in /Users/moritzrichter/anaconda3/lib/python3.11/site-packages (from transformers) (4.65.0)\n",
      "Requirement already satisfied: fsspec in /Users/moritzrichter/anaconda3/lib/python3.11/site-packages (from huggingface-hub<1.0,>=0.15.1->transformers) (2023.4.0)\n",
      "Requirement already satisfied: typing-extensions>=3.7.4.3 in /Users/moritzrichter/anaconda3/lib/python3.11/site-packages (from huggingface-hub<1.0,>=0.15.1->transformers) (4.9.0)\n",
      "Requirement already satisfied: charset-normalizer<4,>=2 in /Users/moritzrichter/anaconda3/lib/python3.11/site-packages (from requests->transformers) (2.0.4)\n",
      "Requirement already satisfied: idna<4,>=2.5 in /Users/moritzrichter/anaconda3/lib/python3.11/site-packages (from requests->transformers) (3.4)\n",
      "Requirement already satisfied: urllib3<3,>=1.21.1 in /Users/moritzrichter/anaconda3/lib/python3.11/site-packages (from requests->transformers) (1.26.16)\n",
      "Requirement already satisfied: certifi>=2017.4.17 in /Users/moritzrichter/anaconda3/lib/python3.11/site-packages (from requests->transformers) (2024.2.2)\n",
      "Note: you may need to restart the kernel to use updated packages.\n"
     ]
    }
   ],
   "source": [
    "pip install transformers"
   ]
  },
  {
   "cell_type": "code",
   "execution_count": 8,
   "id": "fc410b7a",
   "metadata": {},
   "outputs": [
    {
     "name": "stdout",
     "output_type": "stream",
     "text": [
      "2.2.0\n"
     ]
    }
   ],
   "source": [
    "import torch\n",
    "print(torch.__version__)"
   ]
  },
  {
   "cell_type": "markdown",
   "id": "7f32fbc5",
   "metadata": {},
   "source": [
    "Finding the sentiment of page edits"
   ]
  },
  {
   "cell_type": "code",
   "execution_count": 9,
   "id": "f9217454-da89-4b3c-b584-efb382995089",
   "metadata": {},
   "outputs": [
    {
     "name": "stderr",
     "output_type": "stream",
     "text": [
      "/Users/moritzrichter/anaconda3/lib/python3.11/site-packages/transformers/utils/generic.py:260: UserWarning: torch.utils._pytree._register_pytree_node is deprecated. Please use torch.utils._pytree.register_pytree_node instead.\n",
      "  torch.utils._pytree._register_pytree_node(\n",
      "No model was supplied, defaulted to distilbert-base-uncased-finetuned-sst-2-english and revision af0f99b (https://huggingface.co/distilbert-base-uncased-finetuned-sst-2-english).\n",
      "Using a pipeline without specifying a model name and revision in production is not recommended.\n"
     ]
    }
   ],
   "source": [
    "from transformers import pipeline\n",
    "sentiment_pipeline = pipeline(\"sentiment-analysis\")\n",
    "\n",
    "def find_sentiment(text):\n",
    "    sent = sentiment_pipeline([text[:250]])[0]\n",
    "    score = sent[\"score\"] #strengt of the sentiment\n",
    "    if sent[\"label\"] == \"NEGATIVE\":\n",
    "        score *= -1\n",
    "    return score"
   ]
  },
  {
   "cell_type": "code",
   "execution_count": null,
   "id": "9bf3146d-25a5-4bf4-a20d-717f89c78251",
   "metadata": {},
   "outputs": [],
   "source": [
    "edits = {}\n",
    "\n",
    "for rev in revs:        \n",
    "    date = time.strftime(\"%Y-%m-%d\", rev[\"timestamp\"])\n",
    "    if date not in edits:\n",
    "        edits[date] = dict(sentiments=list(), edit_count=0)\n",
    "    \n",
    "    edits[date][\"edit_count\"] += 1\n",
    "    \n",
    "    comment = rev.get(\"comment\", \"\")\n",
    "    edits[date][\"sentiments\"].append(find_sentiment(comment))"
   ]
  },
  {
   "cell_type": "code",
   "execution_count": null,
   "id": "3ea15f23-a3a1-4ed2-85b2-87844d9b1d02",
   "metadata": {},
   "outputs": [],
   "source": [
    "from statistics import mean\n",
    "\n",
    "for key in edits:\n",
    "    if len(edits[key][\"sentiments\"]) > 0:\n",
    "        edits[key][\"sentiment\"] = mean(edits[key][\"sentiments\"])\n",
    "        edits[key][\"neg_sentiment\"] = len([s for s in edits[key][\"sentiments\"] if s < 0]) / len(edits[key][\"sentiments\"])\n",
    "    else:\n",
    "        edits[key][\"sentiment\"] = 0\n",
    "        edits[key][\"neg_sentiment\"] = 0\n",
    "    \n",
    "    del edits[key][\"sentiments\"]"
   ]
  },
  {
   "cell_type": "code",
   "execution_count": null,
   "id": "86056936-1e5d-493f-b747-8c96d3fe9c09",
   "metadata": {},
   "outputs": [],
   "source": [
    "import pandas as pd\n",
    "\n",
    "edits_df = pd.DataFrame.from_dict(edits, orient=\"index\")"
   ]
  },
  {
   "cell_type": "code",
   "execution_count": null,
   "id": "f58a9075-4802-40e8-802b-3a6d816dc068",
   "metadata": {},
   "outputs": [],
   "source": [
    "edits_df"
   ]
  },
  {
   "cell_type": "code",
   "execution_count": null,
   "id": "108e42ed-0ecd-4108-9fa9-08399970a9cb",
   "metadata": {},
   "outputs": [],
   "source": [
    "edits_df.index = pd.to_datetime(edits_df.index)"
   ]
  },
  {
   "cell_type": "code",
   "execution_count": null,
   "id": "7152e4ca-960b-4eca-a235-6f7865534b1f",
   "metadata": {},
   "outputs": [],
   "source": [
    "from datetime import datetime\n",
    "\n",
    "dates = pd.date_range(start=\"2009-03-08\",end=datetime.today())"
   ]
  },
  {
   "cell_type": "code",
   "execution_count": null,
   "id": "e33c7ab4-9f85-4afd-8f6b-108bab4e51a0",
   "metadata": {},
   "outputs": [],
   "source": [
    "edits_df = edits_df.reindex(dates, fill_value=0)"
   ]
  },
  {
   "cell_type": "code",
   "execution_count": null,
   "id": "58b56d2b-10e6-4f8c-b846-7d52fbff40f3",
   "metadata": {},
   "outputs": [],
   "source": [
    "edits_df"
   ]
  },
  {
   "cell_type": "code",
   "execution_count": null,
   "id": "74ebbf3a-0dd3-4e8a-acaf-3e82428bdbba",
   "metadata": {},
   "outputs": [],
   "source": [
    "rolling_edits = edits_df.rolling(30, min_periods=30).mean()"
   ]
  },
  {
   "cell_type": "code",
   "execution_count": null,
   "id": "d3118067-b5f7-4965-bcef-0632a164065e",
   "metadata": {},
   "outputs": [],
   "source": [
    "rolling_edits = rolling_edits.dropna()"
   ]
  },
  {
   "cell_type": "code",
   "execution_count": null,
   "id": "da299928-ff9e-47df-82bd-e7f7ccda84a2",
   "metadata": {},
   "outputs": [],
   "source": [
    "rolling_edits"
   ]
  },
  {
   "cell_type": "code",
   "execution_count": null,
   "id": "d713804f-4ebd-4dab-a575-8ffedc40529f",
   "metadata": {},
   "outputs": [],
   "source": [
    "rolling_edits.to_csv(\"wikipedia_edits_dot.csv\")"
   ]
  },
  {
   "cell_type": "code",
   "execution_count": null,
   "id": "11313a79-d7f7-4765-b842-175441f5cbbc",
   "metadata": {},
   "outputs": [],
   "source": []
  }
 ],
 "metadata": {
  "kernelspec": {
   "display_name": "Python 3 (ipykernel)",
   "language": "python",
   "name": "python3"
  },
  "language_info": {
   "codemirror_mode": {
    "name": "ipython",
    "version": 3
   },
   "file_extension": ".py",
   "mimetype": "text/x-python",
   "name": "python",
   "nbconvert_exporter": "python",
   "pygments_lexer": "ipython3",
   "version": "3.11.5"
  }
 },
 "nbformat": 4,
 "nbformat_minor": 5
}
