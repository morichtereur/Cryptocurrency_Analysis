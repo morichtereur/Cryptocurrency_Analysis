{
 "cells": [
  {
   "cell_type": "code",
   "execution_count": 1,
   "id": "9925ad2f-9c50-45e5-8533-eebf1a5fd7d2",
   "metadata": {},
   "outputs": [],
   "source": [
    "import yfinance as yf\n",
    "import os\n",
    "import pandas as pd"
   ]
  },
  {
   "cell_type": "code",
   "execution_count": 2,
   "id": "130eb0f5-a3ab-4b7a-a3aa-bb1c8437d6f2",
   "metadata": {},
   "outputs": [],
   "source": [
    "# Initialize the ticker object for Polkadot (DOT)\n",
    "dot_ticker = yf.Ticker(\"DOT-USD\")"
   ]
  },
  {
   "cell_type": "code",
   "execution_count": 3,
   "id": "d71ca889-3406-4139-9da6-792dfc844e19",
   "metadata": {},
   "outputs": [],
   "source": [
    "if os.path.exists(\"dot.csv\"):\n",
    "    dot = pd.read_csv(\"dot.csv\", index_col=0)\n",
    "else:\n",
    "    dot = dot_ticker.history(period=\"max\")\n",
    "    dot.to_csv(\"dot.csv\")"
   ]
  },
  {
   "cell_type": "code",
   "execution_count": 4,
   "id": "fae85f03-d041-4cdd-832b-5a769e998236",
   "metadata": {},
   "outputs": [
    {
     "data": {
      "text/html": [
       "<div>\n",
       "<style scoped>\n",
       "    .dataframe tbody tr th:only-of-type {\n",
       "        vertical-align: middle;\n",
       "    }\n",
       "\n",
       "    .dataframe tbody tr th {\n",
       "        vertical-align: top;\n",
       "    }\n",
       "\n",
       "    .dataframe thead th {\n",
       "        text-align: right;\n",
       "    }\n",
       "</style>\n",
       "<table border=\"1\" class=\"dataframe\">\n",
       "  <thead>\n",
       "    <tr style=\"text-align: right;\">\n",
       "      <th></th>\n",
       "      <th>Open</th>\n",
       "      <th>High</th>\n",
       "      <th>Low</th>\n",
       "      <th>Close</th>\n",
       "      <th>Volume</th>\n",
       "      <th>Dividends</th>\n",
       "      <th>Stock Splits</th>\n",
       "    </tr>\n",
       "    <tr>\n",
       "      <th>Date</th>\n",
       "      <th></th>\n",
       "      <th></th>\n",
       "      <th></th>\n",
       "      <th></th>\n",
       "      <th></th>\n",
       "      <th></th>\n",
       "      <th></th>\n",
       "    </tr>\n",
       "  </thead>\n",
       "  <tbody>\n",
       "    <tr>\n",
       "      <th>2020-08-20 00:00:00+00:00</th>\n",
       "      <td>2.787857</td>\n",
       "      <td>3.077784</td>\n",
       "      <td>2.692896</td>\n",
       "      <td>2.900080</td>\n",
       "      <td>48819867</td>\n",
       "      <td>0.0</td>\n",
       "      <td>0.0</td>\n",
       "    </tr>\n",
       "    <tr>\n",
       "      <th>2020-08-21 00:00:00+00:00</th>\n",
       "      <td>2.896923</td>\n",
       "      <td>3.090093</td>\n",
       "      <td>2.730919</td>\n",
       "      <td>2.875028</td>\n",
       "      <td>49313137</td>\n",
       "      <td>0.0</td>\n",
       "      <td>0.0</td>\n",
       "    </tr>\n",
       "    <tr>\n",
       "      <th>2020-08-22 00:00:00+00:00</th>\n",
       "      <td>2.878570</td>\n",
       "      <td>4.510613</td>\n",
       "      <td>2.816762</td>\n",
       "      <td>4.484690</td>\n",
       "      <td>485801096</td>\n",
       "      <td>0.0</td>\n",
       "      <td>0.0</td>\n",
       "    </tr>\n",
       "    <tr>\n",
       "      <th>2020-08-23 00:00:00+00:00</th>\n",
       "      <td>4.487058</td>\n",
       "      <td>4.487058</td>\n",
       "      <td>3.716271</td>\n",
       "      <td>3.967066</td>\n",
       "      <td>320749483</td>\n",
       "      <td>0.0</td>\n",
       "      <td>0.0</td>\n",
       "    </tr>\n",
       "    <tr>\n",
       "      <th>2020-08-24 00:00:00+00:00</th>\n",
       "      <td>3.987413</td>\n",
       "      <td>4.783158</td>\n",
       "      <td>3.812670</td>\n",
       "      <td>4.602614</td>\n",
       "      <td>407690171</td>\n",
       "      <td>0.0</td>\n",
       "      <td>0.0</td>\n",
       "    </tr>\n",
       "    <tr>\n",
       "      <th>...</th>\n",
       "      <td>...</td>\n",
       "      <td>...</td>\n",
       "      <td>...</td>\n",
       "      <td>...</td>\n",
       "      <td>...</td>\n",
       "      <td>...</td>\n",
       "      <td>...</td>\n",
       "    </tr>\n",
       "    <tr>\n",
       "      <th>2024-04-11 00:00:00+00:00</th>\n",
       "      <td>8.418827</td>\n",
       "      <td>8.515911</td>\n",
       "      <td>8.201010</td>\n",
       "      <td>8.379441</td>\n",
       "      <td>220806144</td>\n",
       "      <td>0.0</td>\n",
       "      <td>0.0</td>\n",
       "    </tr>\n",
       "    <tr>\n",
       "      <th>2024-04-12 00:00:00+00:00</th>\n",
       "      <td>8.379780</td>\n",
       "      <td>8.482064</td>\n",
       "      <td>6.600109</td>\n",
       "      <td>7.241089</td>\n",
       "      <td>650188288</td>\n",
       "      <td>0.0</td>\n",
       "      <td>0.0</td>\n",
       "    </tr>\n",
       "    <tr>\n",
       "      <th>2024-04-13 00:00:00+00:00</th>\n",
       "      <td>7.241166</td>\n",
       "      <td>7.324754</td>\n",
       "      <td>5.810125</td>\n",
       "      <td>6.417978</td>\n",
       "      <td>670503551</td>\n",
       "      <td>0.0</td>\n",
       "      <td>0.0</td>\n",
       "    </tr>\n",
       "    <tr>\n",
       "      <th>2024-04-14 00:00:00+00:00</th>\n",
       "      <td>6.417978</td>\n",
       "      <td>6.922496</td>\n",
       "      <td>6.224711</td>\n",
       "      <td>6.869346</td>\n",
       "      <td>511526862</td>\n",
       "      <td>0.0</td>\n",
       "      <td>0.0</td>\n",
       "    </tr>\n",
       "    <tr>\n",
       "      <th>2024-04-16 00:00:00+00:00</th>\n",
       "      <td>6.711037</td>\n",
       "      <td>6.737170</td>\n",
       "      <td>6.493531</td>\n",
       "      <td>6.553102</td>\n",
       "      <td>343457728</td>\n",
       "      <td>0.0</td>\n",
       "      <td>0.0</td>\n",
       "    </tr>\n",
       "  </tbody>\n",
       "</table>\n",
       "<p>1335 rows × 7 columns</p>\n",
       "</div>"
      ],
      "text/plain": [
       "                               Open      High       Low     Close     Volume  \\\n",
       "Date                                                                           \n",
       "2020-08-20 00:00:00+00:00  2.787857  3.077784  2.692896  2.900080   48819867   \n",
       "2020-08-21 00:00:00+00:00  2.896923  3.090093  2.730919  2.875028   49313137   \n",
       "2020-08-22 00:00:00+00:00  2.878570  4.510613  2.816762  4.484690  485801096   \n",
       "2020-08-23 00:00:00+00:00  4.487058  4.487058  3.716271  3.967066  320749483   \n",
       "2020-08-24 00:00:00+00:00  3.987413  4.783158  3.812670  4.602614  407690171   \n",
       "...                             ...       ...       ...       ...        ...   \n",
       "2024-04-11 00:00:00+00:00  8.418827  8.515911  8.201010  8.379441  220806144   \n",
       "2024-04-12 00:00:00+00:00  8.379780  8.482064  6.600109  7.241089  650188288   \n",
       "2024-04-13 00:00:00+00:00  7.241166  7.324754  5.810125  6.417978  670503551   \n",
       "2024-04-14 00:00:00+00:00  6.417978  6.922496  6.224711  6.869346  511526862   \n",
       "2024-04-16 00:00:00+00:00  6.711037  6.737170  6.493531  6.553102  343457728   \n",
       "\n",
       "                           Dividends  Stock Splits  \n",
       "Date                                                \n",
       "2020-08-20 00:00:00+00:00        0.0           0.0  \n",
       "2020-08-21 00:00:00+00:00        0.0           0.0  \n",
       "2020-08-22 00:00:00+00:00        0.0           0.0  \n",
       "2020-08-23 00:00:00+00:00        0.0           0.0  \n",
       "2020-08-24 00:00:00+00:00        0.0           0.0  \n",
       "...                              ...           ...  \n",
       "2024-04-11 00:00:00+00:00        0.0           0.0  \n",
       "2024-04-12 00:00:00+00:00        0.0           0.0  \n",
       "2024-04-13 00:00:00+00:00        0.0           0.0  \n",
       "2024-04-14 00:00:00+00:00        0.0           0.0  \n",
       "2024-04-16 00:00:00+00:00        0.0           0.0  \n",
       "\n",
       "[1335 rows x 7 columns]"
      ]
     },
     "execution_count": 4,
     "metadata": {},
     "output_type": "execute_result"
    }
   ],
   "source": [
    "dot"
   ]
  },
  {
   "cell_type": "code",
   "execution_count": 6,
   "id": "086d0aef-f2e4-42eb-9e41-4e4bad1f13d1",
   "metadata": {},
   "outputs": [],
   "source": [
    "dot.index = pd.to_datetime(dot.index)"
   ]
  },
  {
   "cell_type": "code",
   "execution_count": 7,
   "id": "1067f63d-91fd-425a-80a1-fccd1eba3612",
   "metadata": {},
   "outputs": [],
   "source": [
    "del dot[\"Dividends\"]# delete dividends and stock splits column\n",
    "del dot[\"Stock Splits\"]"
   ]
  },
  {
   "cell_type": "code",
   "execution_count": 8,
   "id": "1fd1a503-412e-419f-b3e0-e32bf829ed0d",
   "metadata": {},
   "outputs": [],
   "source": [
    "dot.columns = [c.lower() for c in dot.columns] #convert to lower case"
   ]
  },
  {
   "cell_type": "code",
   "execution_count": 9,
   "id": "0f3d1839-bc67-45b7-b1a0-8d8f60c62b50",
   "metadata": {},
   "outputs": [
    {
     "data": {
      "text/plain": [
       "<Axes: xlabel='Date'>"
      ]
     },
     "execution_count": 9,
     "metadata": {},
     "output_type": "execute_result"
    },
    {
     "data": {
      "image/png": "[encoded data removed]",
      "text/plain": [
       "<Figure size 640x480 with 1 Axes>"
      ]
     },
     "metadata": {},
     "output_type": "display_data"
    }
   ],
   "source": [
    "dot.plot.line(y=\"close\", use_index=True)"
   ]
  },
  {
   "cell_type": "code",
   "execution_count": 10,
   "id": "17bb4150-7dc3-4dcb-92ac-5b2149899563",
   "metadata": {},
   "outputs": [],
   "source": [
    "wiki = pd.read_csv(\"wikipedia_edits_dot.csv\", index_col=0, parse_dates=True)"
   ]
  },
  {
   "cell_type": "code",
   "execution_count": 11,
   "id": "10685b74-a2fb-4399-9a50-83d1fb0a986a",
   "metadata": {},
   "outputs": [
    {
     "data": {
      "text/html": [
       "<div>\n",
       "<style scoped>\n",
       "    .dataframe tbody tr th:only-of-type {\n",
       "        vertical-align: middle;\n",
       "    }\n",
       "\n",
       "    .dataframe tbody tr th {\n",
       "        vertical-align: top;\n",
       "    }\n",
       "\n",
       "    .dataframe thead th {\n",
       "        text-align: right;\n",
       "    }\n",
       "</style>\n",
       "<table border=\"1\" class=\"dataframe\">\n",
       "  <thead>\n",
       "    <tr style=\"text-align: right;\">\n",
       "      <th></th>\n",
       "      <th>edit_count</th>\n",
       "      <th>sentiment</th>\n",
       "      <th>neg_sentiment</th>\n",
       "    </tr>\n",
       "  </thead>\n",
       "  <tbody>\n",
       "    <tr>\n",
       "      <th>2009-04-06</th>\n",
       "      <td>0.0</td>\n",
       "      <td>0.0</td>\n",
       "      <td>0.0</td>\n",
       "    </tr>\n",
       "    <tr>\n",
       "      <th>2009-04-07</th>\n",
       "      <td>0.0</td>\n",
       "      <td>0.0</td>\n",
       "      <td>0.0</td>\n",
       "    </tr>\n",
       "    <tr>\n",
       "      <th>2009-04-08</th>\n",
       "      <td>0.0</td>\n",
       "      <td>0.0</td>\n",
       "      <td>0.0</td>\n",
       "    </tr>\n",
       "    <tr>\n",
       "      <th>2009-04-09</th>\n",
       "      <td>0.0</td>\n",
       "      <td>0.0</td>\n",
       "      <td>0.0</td>\n",
       "    </tr>\n",
       "    <tr>\n",
       "      <th>2009-04-10</th>\n",
       "      <td>0.0</td>\n",
       "      <td>0.0</td>\n",
       "      <td>0.0</td>\n",
       "    </tr>\n",
       "    <tr>\n",
       "      <th>...</th>\n",
       "      <td>...</td>\n",
       "      <td>...</td>\n",
       "      <td>...</td>\n",
       "    </tr>\n",
       "    <tr>\n",
       "      <th>2024-04-11</th>\n",
       "      <td>0.0</td>\n",
       "      <td>0.0</td>\n",
       "      <td>0.0</td>\n",
       "    </tr>\n",
       "    <tr>\n",
       "      <th>2024-04-12</th>\n",
       "      <td>0.0</td>\n",
       "      <td>0.0</td>\n",
       "      <td>0.0</td>\n",
       "    </tr>\n",
       "    <tr>\n",
       "      <th>2024-04-13</th>\n",
       "      <td>0.0</td>\n",
       "      <td>0.0</td>\n",
       "      <td>0.0</td>\n",
       "    </tr>\n",
       "    <tr>\n",
       "      <th>2024-04-14</th>\n",
       "      <td>0.0</td>\n",
       "      <td>0.0</td>\n",
       "      <td>0.0</td>\n",
       "    </tr>\n",
       "    <tr>\n",
       "      <th>2024-04-15</th>\n",
       "      <td>0.0</td>\n",
       "      <td>0.0</td>\n",
       "      <td>0.0</td>\n",
       "    </tr>\n",
       "  </tbody>\n",
       "</table>\n",
       "<p>5489 rows × 3 columns</p>\n",
       "</div>"
      ],
      "text/plain": [
       "            edit_count  sentiment  neg_sentiment\n",
       "2009-04-06         0.0        0.0            0.0\n",
       "2009-04-07         0.0        0.0            0.0\n",
       "2009-04-08         0.0        0.0            0.0\n",
       "2009-04-09         0.0        0.0            0.0\n",
       "2009-04-10         0.0        0.0            0.0\n",
       "...                ...        ...            ...\n",
       "2024-04-11         0.0        0.0            0.0\n",
       "2024-04-12         0.0        0.0            0.0\n",
       "2024-04-13         0.0        0.0            0.0\n",
       "2024-04-14         0.0        0.0            0.0\n",
       "2024-04-15         0.0        0.0            0.0\n",
       "\n",
       "[5489 rows x 3 columns]"
      ]
     },
     "execution_count": 11,
     "metadata": {},
     "output_type": "execute_result"
    }
   ],
   "source": [
    "wiki"
   ]
  },
  {
   "cell_type": "markdown",
   "id": "c7a6271a",
   "metadata": {},
   "source": [
    "### Preparing data for machine learning"
   ]
  },
  {
   "cell_type": "code",
   "execution_count": 13,
   "id": "9eff00c0",
   "metadata": {},
   "outputs": [
    {
     "ename": "TypeError",
     "evalue": "Already tz-aware, use tz_convert to convert.",
     "output_type": "error",
     "traceback": [
      "\u001b[0;31m---------------------------------------------------------------------------\u001b[0m",
      "\u001b[0;31mTypeError\u001b[0m                                 Traceback (most recent call last)",
      "Cell \u001b[0;32mIn[13], line 1\u001b[0m\n\u001b[0;32m----> 1\u001b[0m wiki\u001b[38;5;241m.\u001b[39mindex \u001b[38;5;241m=\u001b[39m wiki\u001b[38;5;241m.\u001b[39mindex\u001b[38;5;241m.\u001b[39mtz_localize(\u001b[38;5;124m'\u001b[39m\u001b[38;5;124mUTC\u001b[39m\u001b[38;5;124m'\u001b[39m)\n",
      "File \u001b[0;32m~/anaconda3/lib/python3.11/site-packages/pandas/core/indexes/datetimes.py:291\u001b[0m, in \u001b[0;36mDatetimeIndex.tz_localize\u001b[0;34m(self, tz, ambiguous, nonexistent)\u001b[0m\n\u001b[1;32m    284\u001b[0m \u001b[38;5;129m@doc\u001b[39m(DatetimeArray\u001b[38;5;241m.\u001b[39mtz_localize)\n\u001b[1;32m    285\u001b[0m \u001b[38;5;28;01mdef\u001b[39;00m \u001b[38;5;21mtz_localize\u001b[39m(\n\u001b[1;32m    286\u001b[0m     \u001b[38;5;28mself\u001b[39m,\n\u001b[0;32m   (...)\u001b[0m\n\u001b[1;32m    289\u001b[0m     nonexistent: TimeNonexistent \u001b[38;5;241m=\u001b[39m \u001b[38;5;124m\"\u001b[39m\u001b[38;5;124mraise\u001b[39m\u001b[38;5;124m\"\u001b[39m,\n\u001b[1;32m    290\u001b[0m ) \u001b[38;5;241m-\u001b[39m\u001b[38;5;241m>\u001b[39m Self:\n\u001b[0;32m--> 291\u001b[0m     arr \u001b[38;5;241m=\u001b[39m \u001b[38;5;28mself\u001b[39m\u001b[38;5;241m.\u001b[39m_data\u001b[38;5;241m.\u001b[39mtz_localize(tz, ambiguous, nonexistent)\n\u001b[1;32m    292\u001b[0m     \u001b[38;5;28;01mreturn\u001b[39;00m \u001b[38;5;28mtype\u001b[39m(\u001b[38;5;28mself\u001b[39m)\u001b[38;5;241m.\u001b[39m_simple_new(arr, name\u001b[38;5;241m=\u001b[39m\u001b[38;5;28mself\u001b[39m\u001b[38;5;241m.\u001b[39mname)\n",
      "File \u001b[0;32m~/anaconda3/lib/python3.11/site-packages/pandas/core/arrays/_mixins.py:80\u001b[0m, in \u001b[0;36mravel_compat.<locals>.method\u001b[0;34m(self, *args, **kwargs)\u001b[0m\n\u001b[1;32m     77\u001b[0m \u001b[38;5;129m@wraps\u001b[39m(meth)\n\u001b[1;32m     78\u001b[0m \u001b[38;5;28;01mdef\u001b[39;00m \u001b[38;5;21mmethod\u001b[39m(\u001b[38;5;28mself\u001b[39m, \u001b[38;5;241m*\u001b[39margs, \u001b[38;5;241m*\u001b[39m\u001b[38;5;241m*\u001b[39mkwargs):\n\u001b[1;32m     79\u001b[0m     \u001b[38;5;28;01mif\u001b[39;00m \u001b[38;5;28mself\u001b[39m\u001b[38;5;241m.\u001b[39mndim \u001b[38;5;241m==\u001b[39m \u001b[38;5;241m1\u001b[39m:\n\u001b[0;32m---> 80\u001b[0m         \u001b[38;5;28;01mreturn\u001b[39;00m meth(\u001b[38;5;28mself\u001b[39m, \u001b[38;5;241m*\u001b[39margs, \u001b[38;5;241m*\u001b[39m\u001b[38;5;241m*\u001b[39mkwargs)\n\u001b[1;32m     82\u001b[0m     flags \u001b[38;5;241m=\u001b[39m \u001b[38;5;28mself\u001b[39m\u001b[38;5;241m.\u001b[39m_ndarray\u001b[38;5;241m.\u001b[39mflags\n\u001b[1;32m     83\u001b[0m     flat \u001b[38;5;241m=\u001b[39m \u001b[38;5;28mself\u001b[39m\u001b[38;5;241m.\u001b[39mravel(\u001b[38;5;124m\"\u001b[39m\u001b[38;5;124mK\u001b[39m\u001b[38;5;124m\"\u001b[39m)\n",
      "File \u001b[0;32m~/anaconda3/lib/python3.11/site-packages/pandas/core/arrays/datetimes.py:1061\u001b[0m, in \u001b[0;36mDatetimeArray.tz_localize\u001b[0;34m(self, tz, ambiguous, nonexistent)\u001b[0m\n\u001b[1;32m   1059\u001b[0m         new_dates \u001b[38;5;241m=\u001b[39m tz_convert_from_utc(\u001b[38;5;28mself\u001b[39m\u001b[38;5;241m.\u001b[39masi8, \u001b[38;5;28mself\u001b[39m\u001b[38;5;241m.\u001b[39mtz, reso\u001b[38;5;241m=\u001b[39m\u001b[38;5;28mself\u001b[39m\u001b[38;5;241m.\u001b[39m_creso)\n\u001b[1;32m   1060\u001b[0m     \u001b[38;5;28;01melse\u001b[39;00m:\n\u001b[0;32m-> 1061\u001b[0m         \u001b[38;5;28;01mraise\u001b[39;00m \u001b[38;5;167;01mTypeError\u001b[39;00m(\u001b[38;5;124m\"\u001b[39m\u001b[38;5;124mAlready tz-aware, use tz_convert to convert.\u001b[39m\u001b[38;5;124m\"\u001b[39m)\n\u001b[1;32m   1062\u001b[0m \u001b[38;5;28;01melse\u001b[39;00m:\n\u001b[1;32m   1063\u001b[0m     tz \u001b[38;5;241m=\u001b[39m timezones\u001b[38;5;241m.\u001b[39mmaybe_get_tz(tz)\n",
      "\u001b[0;31mTypeError\u001b[0m: Already tz-aware, use tz_convert to convert."
     ]
    }
   ],
   "source": [
    "wiki.index = wiki.index.tz_localize('UTC')"
   ]
  },
  {
   "cell_type": "code",
   "execution_count": 14,
   "id": "dbb1b8f3-2058-4e67-9b86-0aef8cfde65c",
   "metadata": {},
   "outputs": [],
   "source": [
    "dot = dot.merge(wiki, left_index=True, right_index=True)"
   ]
  },
  {
   "cell_type": "code",
   "execution_count": 15,
   "id": "8767cdef-7b18-4902-ab92-e2f9d802f174",
   "metadata": {},
   "outputs": [],
   "source": [
    "dot[\"tomorrow\"] = dot[\"close\"].shift(-1)"
   ]
  },
  {
   "cell_type": "code",
   "execution_count": 16,
   "id": "bef1484f-353d-4bdf-afbf-9274b396d8a2",
   "metadata": {},
   "outputs": [],
   "source": [
    "dot[\"target\"] = (dot[\"tomorrow\"] > dot[\"close\"]).astype(int)"
   ]
  },
  {
   "cell_type": "code",
   "execution_count": 17,
   "id": "c696cca8-ff0b-4735-b87d-5d41e6d8eccf",
   "metadata": {},
   "outputs": [
    {
     "data": {
      "text/plain": [
       "target\n",
       "0    668\n",
       "1    666\n",
       "Name: count, dtype: int64"
      ]
     },
     "execution_count": 17,
     "metadata": {},
     "output_type": "execute_result"
    }
   ],
   "source": [
    "dot[\"target\"].value_counts()"
   ]
  },
  {
   "cell_type": "code",
   "execution_count": 18,
   "id": "641e7710-24e0-408a-83e4-9c651fac29a7",
   "metadata": {},
   "outputs": [
    {
     "data": {
      "text/html": [
       "<div>\n",
       "<style scoped>\n",
       "    .dataframe tbody tr th:only-of-type {\n",
       "        vertical-align: middle;\n",
       "    }\n",
       "\n",
       "    .dataframe tbody tr th {\n",
       "        vertical-align: top;\n",
       "    }\n",
       "\n",
       "    .dataframe thead th {\n",
       "        text-align: right;\n",
       "    }\n",
       "</style>\n",
       "<table border=\"1\" class=\"dataframe\">\n",
       "  <thead>\n",
       "    <tr style=\"text-align: right;\">\n",
       "      <th></th>\n",
       "      <th>open</th>\n",
       "      <th>high</th>\n",
       "      <th>low</th>\n",
       "      <th>close</th>\n",
       "      <th>volume</th>\n",
       "      <th>edit_count</th>\n",
       "      <th>sentiment</th>\n",
       "      <th>neg_sentiment</th>\n",
       "      <th>tomorrow</th>\n",
       "      <th>target</th>\n",
       "    </tr>\n",
       "  </thead>\n",
       "  <tbody>\n",
       "    <tr>\n",
       "      <th>2020-08-20 00:00:00+00:00</th>\n",
       "      <td>2.787857</td>\n",
       "      <td>3.077784</td>\n",
       "      <td>2.692896</td>\n",
       "      <td>2.900080</td>\n",
       "      <td>48819867</td>\n",
       "      <td>0.0</td>\n",
       "      <td>0.0</td>\n",
       "      <td>0.0</td>\n",
       "      <td>2.875028</td>\n",
       "      <td>0</td>\n",
       "    </tr>\n",
       "    <tr>\n",
       "      <th>2020-08-21 00:00:00+00:00</th>\n",
       "      <td>2.896923</td>\n",
       "      <td>3.090093</td>\n",
       "      <td>2.730919</td>\n",
       "      <td>2.875028</td>\n",
       "      <td>49313137</td>\n",
       "      <td>0.0</td>\n",
       "      <td>0.0</td>\n",
       "      <td>0.0</td>\n",
       "      <td>4.484690</td>\n",
       "      <td>1</td>\n",
       "    </tr>\n",
       "    <tr>\n",
       "      <th>2020-08-22 00:00:00+00:00</th>\n",
       "      <td>2.878570</td>\n",
       "      <td>4.510613</td>\n",
       "      <td>2.816762</td>\n",
       "      <td>4.484690</td>\n",
       "      <td>485801096</td>\n",
       "      <td>0.0</td>\n",
       "      <td>0.0</td>\n",
       "      <td>0.0</td>\n",
       "      <td>3.967066</td>\n",
       "      <td>0</td>\n",
       "    </tr>\n",
       "    <tr>\n",
       "      <th>2020-08-23 00:00:00+00:00</th>\n",
       "      <td>4.487058</td>\n",
       "      <td>4.487058</td>\n",
       "      <td>3.716271</td>\n",
       "      <td>3.967066</td>\n",
       "      <td>320749483</td>\n",
       "      <td>0.0</td>\n",
       "      <td>0.0</td>\n",
       "      <td>0.0</td>\n",
       "      <td>4.602614</td>\n",
       "      <td>1</td>\n",
       "    </tr>\n",
       "    <tr>\n",
       "      <th>2020-08-24 00:00:00+00:00</th>\n",
       "      <td>3.987413</td>\n",
       "      <td>4.783158</td>\n",
       "      <td>3.812670</td>\n",
       "      <td>4.602614</td>\n",
       "      <td>407690171</td>\n",
       "      <td>0.0</td>\n",
       "      <td>0.0</td>\n",
       "      <td>0.0</td>\n",
       "      <td>5.523393</td>\n",
       "      <td>1</td>\n",
       "    </tr>\n",
       "    <tr>\n",
       "      <th>...</th>\n",
       "      <td>...</td>\n",
       "      <td>...</td>\n",
       "      <td>...</td>\n",
       "      <td>...</td>\n",
       "      <td>...</td>\n",
       "      <td>...</td>\n",
       "      <td>...</td>\n",
       "      <td>...</td>\n",
       "      <td>...</td>\n",
       "      <td>...</td>\n",
       "    </tr>\n",
       "    <tr>\n",
       "      <th>2024-04-10 00:00:00+00:00</th>\n",
       "      <td>8.660017</td>\n",
       "      <td>8.686889</td>\n",
       "      <td>8.192951</td>\n",
       "      <td>8.418901</td>\n",
       "      <td>300776050</td>\n",
       "      <td>0.0</td>\n",
       "      <td>0.0</td>\n",
       "      <td>0.0</td>\n",
       "      <td>8.379441</td>\n",
       "      <td>0</td>\n",
       "    </tr>\n",
       "    <tr>\n",
       "      <th>2024-04-11 00:00:00+00:00</th>\n",
       "      <td>8.418827</td>\n",
       "      <td>8.515911</td>\n",
       "      <td>8.201010</td>\n",
       "      <td>8.379441</td>\n",
       "      <td>220806144</td>\n",
       "      <td>0.0</td>\n",
       "      <td>0.0</td>\n",
       "      <td>0.0</td>\n",
       "      <td>7.241089</td>\n",
       "      <td>0</td>\n",
       "    </tr>\n",
       "    <tr>\n",
       "      <th>2024-04-12 00:00:00+00:00</th>\n",
       "      <td>8.379780</td>\n",
       "      <td>8.482064</td>\n",
       "      <td>6.600109</td>\n",
       "      <td>7.241089</td>\n",
       "      <td>650188288</td>\n",
       "      <td>0.0</td>\n",
       "      <td>0.0</td>\n",
       "      <td>0.0</td>\n",
       "      <td>6.417978</td>\n",
       "      <td>0</td>\n",
       "    </tr>\n",
       "    <tr>\n",
       "      <th>2024-04-13 00:00:00+00:00</th>\n",
       "      <td>7.241166</td>\n",
       "      <td>7.324754</td>\n",
       "      <td>5.810125</td>\n",
       "      <td>6.417978</td>\n",
       "      <td>670503551</td>\n",
       "      <td>0.0</td>\n",
       "      <td>0.0</td>\n",
       "      <td>0.0</td>\n",
       "      <td>6.869346</td>\n",
       "      <td>1</td>\n",
       "    </tr>\n",
       "    <tr>\n",
       "      <th>2024-04-14 00:00:00+00:00</th>\n",
       "      <td>6.417978</td>\n",
       "      <td>6.922496</td>\n",
       "      <td>6.224711</td>\n",
       "      <td>6.869346</td>\n",
       "      <td>511526862</td>\n",
       "      <td>0.0</td>\n",
       "      <td>0.0</td>\n",
       "      <td>0.0</td>\n",
       "      <td>NaN</td>\n",
       "      <td>0</td>\n",
       "    </tr>\n",
       "  </tbody>\n",
       "</table>\n",
       "<p>1334 rows × 10 columns</p>\n",
       "</div>"
      ],
      "text/plain": [
       "                               open      high       low     close     volume  \\\n",
       "2020-08-20 00:00:00+00:00  2.787857  3.077784  2.692896  2.900080   48819867   \n",
       "2020-08-21 00:00:00+00:00  2.896923  3.090093  2.730919  2.875028   49313137   \n",
       "2020-08-22 00:00:00+00:00  2.878570  4.510613  2.816762  4.484690  485801096   \n",
       "2020-08-23 00:00:00+00:00  4.487058  4.487058  3.716271  3.967066  320749483   \n",
       "2020-08-24 00:00:00+00:00  3.987413  4.783158  3.812670  4.602614  407690171   \n",
       "...                             ...       ...       ...       ...        ...   \n",
       "2024-04-10 00:00:00+00:00  8.660017  8.686889  8.192951  8.418901  300776050   \n",
       "2024-04-11 00:00:00+00:00  8.418827  8.515911  8.201010  8.379441  220806144   \n",
       "2024-04-12 00:00:00+00:00  8.379780  8.482064  6.600109  7.241089  650188288   \n",
       "2024-04-13 00:00:00+00:00  7.241166  7.324754  5.810125  6.417978  670503551   \n",
       "2024-04-14 00:00:00+00:00  6.417978  6.922496  6.224711  6.869346  511526862   \n",
       "\n",
       "                           edit_count  sentiment  neg_sentiment  tomorrow  \\\n",
       "2020-08-20 00:00:00+00:00         0.0        0.0            0.0  2.875028   \n",
       "2020-08-21 00:00:00+00:00         0.0        0.0            0.0  4.484690   \n",
       "2020-08-22 00:00:00+00:00         0.0        0.0            0.0  3.967066   \n",
       "2020-08-23 00:00:00+00:00         0.0        0.0            0.0  4.602614   \n",
       "2020-08-24 00:00:00+00:00         0.0        0.0            0.0  5.523393   \n",
       "...                               ...        ...            ...       ...   \n",
       "2024-04-10 00:00:00+00:00         0.0        0.0            0.0  8.379441   \n",
       "2024-04-11 00:00:00+00:00         0.0        0.0            0.0  7.241089   \n",
       "2024-04-12 00:00:00+00:00         0.0        0.0            0.0  6.417978   \n",
       "2024-04-13 00:00:00+00:00         0.0        0.0            0.0  6.869346   \n",
       "2024-04-14 00:00:00+00:00         0.0        0.0            0.0       NaN   \n",
       "\n",
       "                           target  \n",
       "2020-08-20 00:00:00+00:00       0  \n",
       "2020-08-21 00:00:00+00:00       1  \n",
       "2020-08-22 00:00:00+00:00       0  \n",
       "2020-08-23 00:00:00+00:00       1  \n",
       "2020-08-24 00:00:00+00:00       1  \n",
       "...                           ...  \n",
       "2024-04-10 00:00:00+00:00       0  \n",
       "2024-04-11 00:00:00+00:00       0  \n",
       "2024-04-12 00:00:00+00:00       0  \n",
       "2024-04-13 00:00:00+00:00       1  \n",
       "2024-04-14 00:00:00+00:00       0  \n",
       "\n",
       "[1334 rows x 10 columns]"
      ]
     },
     "execution_count": 18,
     "metadata": {},
     "output_type": "execute_result"
    }
   ],
   "source": [
    "dot"
   ]
  },
  {
   "cell_type": "code",
   "execution_count": 20,
   "id": "4f781df2-f1a6-4499-ad69-8749daadc142",
   "metadata": {},
   "outputs": [
    {
     "data": {
      "text/html": [
       "<style>#sk-container-id-1 {color: black;}#sk-container-id-1 pre{padding: 0;}#sk-container-id-1 div.sk-toggleable {background-color: white;}#sk-container-id-1 label.sk-toggleable__label {cursor: pointer;display: block;width: 100%;margin-bottom: 0;padding: 0.3em;box-sizing: border-box;text-align: center;}#sk-container-id-1 label.sk-toggleable__label-arrow:before {content: \"▸\";float: left;margin-right: 0.25em;color: #696969;}#sk-container-id-1 label.sk-toggleable__label-arrow:hover:before {color: black;}#sk-container-id-1 div.sk-estimator:hover label.sk-toggleable__label-arrow:before {color: black;}#sk-container-id-1 div.sk-toggleable__content {max-height: 0;max-width: 0;overflow: hidden;text-align: left;background-color: #f0f8ff;}#sk-container-id-1 div.sk-toggleable__content pre {margin: 0.2em;color: black;border-radius: 0.25em;background-color: #f0f8ff;}#sk-container-id-1 input.sk-toggleable__control:checked~div.sk-toggleable__content {max-height: 200px;max-width: 100%;overflow: auto;}#sk-container-id-1 input.sk-toggleable__control:checked~label.sk-toggleable__label-arrow:before {content: \"▾\";}#sk-container-id-1 div.sk-estimator input.sk-toggleable__control:checked~label.sk-toggleable__label {background-color: #d4ebff;}#sk-container-id-1 div.sk-label input.sk-toggleable__control:checked~label.sk-toggleable__label {background-color: #d4ebff;}#sk-container-id-1 input.sk-hidden--visually {border: 0;clip: rect(1px 1px 1px 1px);clip: rect(1px, 1px, 1px, 1px);height: 1px;margin: -1px;overflow: hidden;padding: 0;position: absolute;width: 1px;}#sk-container-id-1 div.sk-estimator {font-family: monospace;background-color: #f0f8ff;border: 1px dotted black;border-radius: 0.25em;box-sizing: border-box;margin-bottom: 0.5em;}#sk-container-id-1 div.sk-estimator:hover {background-color: #d4ebff;}#sk-container-id-1 div.sk-parallel-item::after {content: \"\";width: 100%;border-bottom: 1px solid gray;flex-grow: 1;}#sk-container-id-1 div.sk-label:hover label.sk-toggleable__label {background-color: #d4ebff;}#sk-container-id-1 div.sk-serial::before {content: \"\";position: absolute;border-left: 1px solid gray;box-sizing: border-box;top: 0;bottom: 0;left: 50%;z-index: 0;}#sk-container-id-1 div.sk-serial {display: flex;flex-direction: column;align-items: center;background-color: white;padding-right: 0.2em;padding-left: 0.2em;position: relative;}#sk-container-id-1 div.sk-item {position: relative;z-index: 1;}#sk-container-id-1 div.sk-parallel {display: flex;align-items: stretch;justify-content: center;background-color: white;position: relative;}#sk-container-id-1 div.sk-item::before, #sk-container-id-1 div.sk-parallel-item::before {content: \"\";position: absolute;border-left: 1px solid gray;box-sizing: border-box;top: 0;bottom: 0;left: 50%;z-index: -1;}#sk-container-id-1 div.sk-parallel-item {display: flex;flex-direction: column;z-index: 1;position: relative;background-color: white;}#sk-container-id-1 div.sk-parallel-item:first-child::after {align-self: flex-end;width: 50%;}#sk-container-id-1 div.sk-parallel-item:last-child::after {align-self: flex-start;width: 50%;}#sk-container-id-1 div.sk-parallel-item:only-child::after {width: 0;}#sk-container-id-1 div.sk-dashed-wrapped {border: 1px dashed gray;margin: 0 0.4em 0.5em 0.4em;box-sizing: border-box;padding-bottom: 0.4em;background-color: white;}#sk-container-id-1 div.sk-label label {font-family: monospace;font-weight: bold;display: inline-block;line-height: 1.2em;}#sk-container-id-1 div.sk-label-container {text-align: center;}#sk-container-id-1 div.sk-container {/* jupyter's `normalize.less` sets `[hidden] { display: none; }` but bootstrap.min.css set `[hidden] { display: none !important; }` so we also need the `!important` here to be able to override the default hidden behavior on the sphinx rendered scikit-learn.org. See: https://github.com/scikit-learn/scikit-learn/issues/21755 */display: inline-block !important;position: relative;}#sk-container-id-1 div.sk-text-repr-fallback {display: none;}</style><div id=\"sk-container-id-1\" class=\"sk-top-container\"><div class=\"sk-text-repr-fallback\"><pre>RandomForestClassifier(min_samples_split=50, random_state=1)</pre><b>In a Jupyter environment, please rerun this cell to show the HTML representation or trust the notebook. <br />On GitHub, the HTML representation is unable to render, please try loading this page with nbviewer.org.</b></div><div class=\"sk-container\" hidden><div class=\"sk-item\"><div class=\"sk-estimator sk-toggleable\"><input class=\"sk-toggleable__control sk-hidden--visually\" id=\"sk-estimator-id-1\" type=\"checkbox\" checked><label for=\"sk-estimator-id-1\" class=\"sk-toggleable__label sk-toggleable__label-arrow\">RandomForestClassifier</label><div class=\"sk-toggleable__content\"><pre>RandomForestClassifier(min_samples_split=50, random_state=1)</pre></div></div></div></div></div>"
      ],
      "text/plain": [
       "RandomForestClassifier(min_samples_split=50, random_state=1)"
      ]
     },
     "execution_count": 20,
     "metadata": {},
     "output_type": "execute_result"
    }
   ],
   "source": [
    "from sklearn.ensemble import RandomForestClassifier\n",
    "\n",
    "model = RandomForestClassifier(n_estimators=100, min_samples_split=50, random_state=1)\n",
    "\n",
    "train = dot.iloc[:-200]\n",
    "test = dot.iloc[-200:]\n",
    "\n",
    "predictors = [\"close\", \"volume\", \"open\", \"high\", \"low\", \"edit_count\", \"sentiment\", \"neg_sentiment\"]\n",
    "model.fit(train[predictors], train[\"target\"])"
   ]
  },
  {
   "cell_type": "code",
   "execution_count": 21,
   "id": "5db58bd9-009f-400c-9692-1d0787d40de8",
   "metadata": {},
   "outputs": [
    {
     "data": {
      "text/plain": [
       "0.6129032258064516"
      ]
     },
     "execution_count": 21,
     "metadata": {},
     "output_type": "execute_result"
    }
   ],
   "source": [
    "from sklearn.metrics import precision_score\n",
    "\n",
    "preds = model.predict(test[predictors])\n",
    "preds = pd.Series(preds, index=test.index)\n",
    "precision_score(test[\"target\"], preds)"
   ]
  },
  {
   "cell_type": "code",
   "execution_count": 22,
   "id": "bce7d7dd-4f0d-4405-ad17-42516045941f",
   "metadata": {},
   "outputs": [],
   "source": [
    "def predict(train, test, predictors, model):\n",
    "    model.fit(train[predictors], train[\"target\"])\n",
    "    preds = model.predict(test[predictors])\n",
    "    preds = pd.Series(preds, index=test.index, name=\"predictions\")\n",
    "    combined = pd.concat([test[\"target\"], preds], axis=1)\n",
    "    return combined"
   ]
  },
  {
   "cell_type": "markdown",
   "id": "44dbfbcb",
   "metadata": {},
   "source": [
    "### Evaluating error with backtesting"
   ]
  },
  {
   "cell_type": "code",
   "execution_count": 23,
   "id": "bec7bbe6-7c57-4ae9-82ca-404182d8218d",
   "metadata": {},
   "outputs": [],
   "source": [
    "def backtest(data, model, predictors, start=1095, step=150):\n",
    "    all_predictions = []\n",
    "\n",
    "    for i in range(start, data.shape[0], step):\n",
    "        train = data.iloc[0:i].copy()\n",
    "        test = data.iloc[i:(i+step)].copy()\n",
    "        predictions = predict(train, test, predictors, model)\n",
    "        all_predictions.append(predictions)\n",
    "    \n",
    "    return pd.concat(all_predictions)"
   ]
  },
  {
   "cell_type": "markdown",
   "id": "77999656",
   "metadata": {},
   "source": [
    "### Using an XGBoost model"
   ]
  },
  {
   "cell_type": "code",
   "execution_count": 25,
   "id": "0d70183c-1ee0-48e8-b012-16804463e6d0",
   "metadata": {},
   "outputs": [],
   "source": [
    "from xgboost import XGBClassifier\n",
    "\n",
    "model = XGBClassifier(random_state=1, learning_rate=.1, n_estimators=200)\n",
    "predictions = backtest(dot, model, predictors)"
   ]
  },
  {
   "cell_type": "code",
   "execution_count": 26,
   "id": "c363f4ad-68ae-4733-8cfa-fc61b1a15e6f",
   "metadata": {},
   "outputs": [
    {
     "data": {
      "text/plain": [
       "predictions\n",
       "0    144\n",
       "1     95\n",
       "Name: count, dtype: int64"
      ]
     },
     "execution_count": 26,
     "metadata": {},
     "output_type": "execute_result"
    }
   ],
   "source": [
    "predictions[\"predictions\"].value_counts()"
   ]
  },
  {
   "cell_type": "code",
   "execution_count": 27,
   "id": "ed54e2de-089d-450b-8a5e-88d4a2dbdfcd",
   "metadata": {},
   "outputs": [
    {
     "data": {
      "text/plain": [
       "0.4842105263157895"
      ]
     },
     "execution_count": 27,
     "metadata": {},
     "output_type": "execute_result"
    }
   ],
   "source": [
    "precision_score(predictions[\"target\"], predictions[\"predictions\"])"
   ]
  },
  {
   "cell_type": "code",
   "execution_count": 28,
   "id": "ef3a6fd5-4e97-4011-be28-9fd115c8b004",
   "metadata": {},
   "outputs": [],
   "source": [
    "def compute_rolling(eth):\n",
    "    horizons = [2,7,60,365]\n",
    "    new_predictors = [\"close\", \"sentiment\", \"neg_sentiment\"]\n",
    "\n",
    "    for horizon in horizons:\n",
    "        rolling_averages = dot.rolling(horizon, min_periods=1).mean()\n",
    "\n",
    "        ratio_column = f\"close_ratio_{horizon}\"\n",
    "        dot[ratio_column] = dot[\"close\"] / rolling_averages[\"close\"]\n",
    "        \n",
    "        edit_column = f\"edit_{horizon}\"\n",
    "        dot[edit_column] = rolling_averages[\"edit_count\"]\n",
    "\n",
    "        rolling = eth.rolling(horizon, closed='left', min_periods=1).mean()\n",
    "        trend_column = f\"trend_{horizon}\"\n",
    "        dot[trend_column] = rolling[\"target\"]\n",
    "\n",
    "        new_predictors+= [ratio_column, trend_column, edit_column]\n",
    "    return dot, new_predictors"
   ]
  },
  {
   "cell_type": "code",
   "execution_count": 29,
   "id": "bb127d2d-5bef-42d1-89ad-759bdbb45a7e",
   "metadata": {},
   "outputs": [],
   "source": [
    "dot, new_predictors = compute_rolling(dot.copy())"
   ]
  },
  {
   "cell_type": "code",
   "execution_count": 30,
   "id": "159bf89c-e329-4d1c-a21d-fed642d2dad2",
   "metadata": {},
   "outputs": [],
   "source": [
    "predictions = backtest(dot, model, new_predictors)"
   ]
  },
  {
   "cell_type": "code",
   "execution_count": 31,
   "id": "ab6dbc06-6137-4f5b-8276-731c94541c29",
   "metadata": {},
   "outputs": [
    {
     "data": {
      "text/plain": [
       "0.5368421052631579"
      ]
     },
     "execution_count": 31,
     "metadata": {},
     "output_type": "execute_result"
    }
   ],
   "source": [
    "precision_score(predictions[\"target\"], predictions[\"predictions\"])"
   ]
  },
  {
   "cell_type": "code",
   "execution_count": 1,
   "id": "4187bd69-6af6-4e18-a6a6-069a36dc841e",
   "metadata": {},
   "outputs": [
    {
     "ename": "NameError",
     "evalue": "name 'predictions' is not defined",
     "output_type": "error",
     "traceback": [
      "\u001b[0;31m---------------------------------------------------------------------------\u001b[0m",
      "\u001b[0;31mNameError\u001b[0m                                 Traceback (most recent call last)",
      "Cell \u001b[0;32mIn[1], line 1\u001b[0m\n\u001b[0;32m----> 1\u001b[0m predictions\n",
      "\u001b[0;31mNameError\u001b[0m: name 'predictions' is not defined"
     ]
    }
   ],
   "source": [
    "predictions"
   ]
  },
  {
   "cell_type": "code",
   "execution_count": null,
   "id": "9f0032f1",
   "metadata": {},
   "outputs": [],
   "source": []
  }
 ],
 "metadata": {
  "kernelspec": {
   "display_name": "Python 3 (ipykernel)",
   "language": "python",
   "name": "python3"
  },
  "language_info": {
   "codemirror_mode": {
    "name": "ipython",
    "version": 3
   },
   "file_extension": ".py",
   "mimetype": "text/x-python",
   "name": "python",
   "nbconvert_exporter": "python",
   "pygments_lexer": "ipython3",
   "version": "3.11.5"
  }
 },
 "nbformat": 4,
 "nbformat_minor": 5
}
