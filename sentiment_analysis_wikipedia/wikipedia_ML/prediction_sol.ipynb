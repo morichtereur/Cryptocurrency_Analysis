{
 "cells": [
  {
   "cell_type": "code",
   "execution_count": 2,
   "id": "9925ad2f-9c50-45e5-8533-eebf1a5fd7d2",
   "metadata": {},
   "outputs": [],
   "source": [
    "import yfinance as yf\n",
    "import os\n",
    "import pandas as pd"
   ]
  },
  {
   "cell_type": "code",
   "execution_count": 3,
   "id": "130eb0f5-a3ab-4b7a-a3aa-bb1c8437d6f2",
   "metadata": {},
   "outputs": [],
   "source": [
    "# Initialize the ticker object for Polkadot (DOT)\n",
    "sol_ticker = yf.Ticker(\"SOL-USD\")"
   ]
  },
  {
   "cell_type": "code",
   "execution_count": 4,
   "id": "d71ca889-3406-4139-9da6-792dfc844e19",
   "metadata": {},
   "outputs": [],
   "source": [
    "if os.path.exists(\"sol.csv\"):\n",
    "    sol = pd.read_csv(\"sol.csv\", index_col=0)\n",
    "else:\n",
    "    sol = sol_ticker.history(period=\"max\")\n",
    "    sol.to_csv(\"sol.csv\")"
   ]
  },
  {
   "cell_type": "code",
   "execution_count": 5,
   "id": "fae85f03-d041-4cdd-832b-5a769e998236",
   "metadata": {},
   "outputs": [
    {
     "data": {
      "text/html": [
       "<div>\n",
       "<style scoped>\n",
       "    .dataframe tbody tr th:only-of-type {\n",
       "        vertical-align: middle;\n",
       "    }\n",
       "\n",
       "    .dataframe tbody tr th {\n",
       "        vertical-align: top;\n",
       "    }\n",
       "\n",
       "    .dataframe thead th {\n",
       "        text-align: right;\n",
       "    }\n",
       "</style>\n",
       "<table border=\"1\" class=\"dataframe\">\n",
       "  <thead>\n",
       "    <tr style=\"text-align: right;\">\n",
       "      <th></th>\n",
       "      <th>Open</th>\n",
       "      <th>High</th>\n",
       "      <th>Low</th>\n",
       "      <th>Close</th>\n",
       "      <th>Volume</th>\n",
       "      <th>Dividends</th>\n",
       "      <th>Stock Splits</th>\n",
       "    </tr>\n",
       "    <tr>\n",
       "      <th>Date</th>\n",
       "      <th></th>\n",
       "      <th></th>\n",
       "      <th></th>\n",
       "      <th></th>\n",
       "      <th></th>\n",
       "      <th></th>\n",
       "      <th></th>\n",
       "    </tr>\n",
       "  </thead>\n",
       "  <tbody>\n",
       "    <tr>\n",
       "      <th>2020-04-10 00:00:00+00:00</th>\n",
       "      <td>0.832005</td>\n",
       "      <td>1.313487</td>\n",
       "      <td>0.694187</td>\n",
       "      <td>0.951054</td>\n",
       "      <td>87364276</td>\n",
       "      <td>0.0</td>\n",
       "      <td>0.0</td>\n",
       "    </tr>\n",
       "    <tr>\n",
       "      <th>2020-04-11 00:00:00+00:00</th>\n",
       "      <td>0.951054</td>\n",
       "      <td>1.049073</td>\n",
       "      <td>0.765020</td>\n",
       "      <td>0.776819</td>\n",
       "      <td>43862444</td>\n",
       "      <td>0.0</td>\n",
       "      <td>0.0</td>\n",
       "    </tr>\n",
       "    <tr>\n",
       "      <th>2020-04-12 00:00:00+00:00</th>\n",
       "      <td>0.785448</td>\n",
       "      <td>0.956670</td>\n",
       "      <td>0.762426</td>\n",
       "      <td>0.882507</td>\n",
       "      <td>38736897</td>\n",
       "      <td>0.0</td>\n",
       "      <td>0.0</td>\n",
       "    </tr>\n",
       "    <tr>\n",
       "      <th>2020-04-13 00:00:00+00:00</th>\n",
       "      <td>0.890760</td>\n",
       "      <td>0.891603</td>\n",
       "      <td>0.773976</td>\n",
       "      <td>0.777832</td>\n",
       "      <td>18211285</td>\n",
       "      <td>0.0</td>\n",
       "      <td>0.0</td>\n",
       "    </tr>\n",
       "    <tr>\n",
       "      <th>2020-04-14 00:00:00+00:00</th>\n",
       "      <td>0.777832</td>\n",
       "      <td>0.796472</td>\n",
       "      <td>0.628169</td>\n",
       "      <td>0.661925</td>\n",
       "      <td>16747614</td>\n",
       "      <td>0.0</td>\n",
       "      <td>0.0</td>\n",
       "    </tr>\n",
       "    <tr>\n",
       "      <th>...</th>\n",
       "      <td>...</td>\n",
       "      <td>...</td>\n",
       "      <td>...</td>\n",
       "      <td>...</td>\n",
       "      <td>...</td>\n",
       "      <td>...</td>\n",
       "      <td>...</td>\n",
       "    </tr>\n",
       "    <tr>\n",
       "      <th>2024-04-11 00:00:00+00:00</th>\n",
       "      <td>173.437363</td>\n",
       "      <td>176.235519</td>\n",
       "      <td>170.393433</td>\n",
       "      <td>172.576370</td>\n",
       "      <td>2712334365</td>\n",
       "      <td>0.0</td>\n",
       "      <td>0.0</td>\n",
       "    </tr>\n",
       "    <tr>\n",
       "      <th>2024-04-12 00:00:00+00:00</th>\n",
       "      <td>172.576370</td>\n",
       "      <td>175.808640</td>\n",
       "      <td>145.516388</td>\n",
       "      <td>153.635468</td>\n",
       "      <td>4727185451</td>\n",
       "      <td>0.0</td>\n",
       "      <td>0.0</td>\n",
       "    </tr>\n",
       "    <tr>\n",
       "      <th>2024-04-13 00:00:00+00:00</th>\n",
       "      <td>153.634476</td>\n",
       "      <td>154.943954</td>\n",
       "      <td>119.833344</td>\n",
       "      <td>139.341690</td>\n",
       "      <td>8976793985</td>\n",
       "      <td>0.0</td>\n",
       "      <td>0.0</td>\n",
       "    </tr>\n",
       "    <tr>\n",
       "      <th>2024-04-14 00:00:00+00:00</th>\n",
       "      <td>139.341690</td>\n",
       "      <td>152.501007</td>\n",
       "      <td>131.287170</td>\n",
       "      <td>151.284943</td>\n",
       "      <td>7110974218</td>\n",
       "      <td>0.0</td>\n",
       "      <td>0.0</td>\n",
       "    </tr>\n",
       "    <tr>\n",
       "      <th>2024-04-16 00:00:00+00:00</th>\n",
       "      <td>138.522461</td>\n",
       "      <td>140.257034</td>\n",
       "      <td>131.823486</td>\n",
       "      <td>133.475037</td>\n",
       "      <td>5744542208</td>\n",
       "      <td>0.0</td>\n",
       "      <td>0.0</td>\n",
       "    </tr>\n",
       "  </tbody>\n",
       "</table>\n",
       "<p>1467 rows × 7 columns</p>\n",
       "</div>"
      ],
      "text/plain": [
       "                                 Open        High         Low       Close  \\\n",
       "Date                                                                        \n",
       "2020-04-10 00:00:00+00:00    0.832005    1.313487    0.694187    0.951054   \n",
       "2020-04-11 00:00:00+00:00    0.951054    1.049073    0.765020    0.776819   \n",
       "2020-04-12 00:00:00+00:00    0.785448    0.956670    0.762426    0.882507   \n",
       "2020-04-13 00:00:00+00:00    0.890760    0.891603    0.773976    0.777832   \n",
       "2020-04-14 00:00:00+00:00    0.777832    0.796472    0.628169    0.661925   \n",
       "...                               ...         ...         ...         ...   \n",
       "2024-04-11 00:00:00+00:00  173.437363  176.235519  170.393433  172.576370   \n",
       "2024-04-12 00:00:00+00:00  172.576370  175.808640  145.516388  153.635468   \n",
       "2024-04-13 00:00:00+00:00  153.634476  154.943954  119.833344  139.341690   \n",
       "2024-04-14 00:00:00+00:00  139.341690  152.501007  131.287170  151.284943   \n",
       "2024-04-16 00:00:00+00:00  138.522461  140.257034  131.823486  133.475037   \n",
       "\n",
       "                               Volume  Dividends  Stock Splits  \n",
       "Date                                                            \n",
       "2020-04-10 00:00:00+00:00    87364276        0.0           0.0  \n",
       "2020-04-11 00:00:00+00:00    43862444        0.0           0.0  \n",
       "2020-04-12 00:00:00+00:00    38736897        0.0           0.0  \n",
       "2020-04-13 00:00:00+00:00    18211285        0.0           0.0  \n",
       "2020-04-14 00:00:00+00:00    16747614        0.0           0.0  \n",
       "...                               ...        ...           ...  \n",
       "2024-04-11 00:00:00+00:00  2712334365        0.0           0.0  \n",
       "2024-04-12 00:00:00+00:00  4727185451        0.0           0.0  \n",
       "2024-04-13 00:00:00+00:00  8976793985        0.0           0.0  \n",
       "2024-04-14 00:00:00+00:00  7110974218        0.0           0.0  \n",
       "2024-04-16 00:00:00+00:00  5744542208        0.0           0.0  \n",
       "\n",
       "[1467 rows x 7 columns]"
      ]
     },
     "execution_count": 5,
     "metadata": {},
     "output_type": "execute_result"
    }
   ],
   "source": [
    "sol"
   ]
  },
  {
   "cell_type": "code",
   "execution_count": 6,
   "id": "086d0aef-f2e4-42eb-9e41-4e4bad1f13d1",
   "metadata": {},
   "outputs": [],
   "source": [
    "sol.index = pd.to_datetime(sol.index)"
   ]
  },
  {
   "cell_type": "code",
   "execution_count": 7,
   "id": "1067f63d-91fd-425a-80a1-fccd1eba3612",
   "metadata": {},
   "outputs": [],
   "source": [
    "del sol[\"Dividends\"]# delete dividends and stock splits column\n",
    "del sol[\"Stock Splits\"]"
   ]
  },
  {
   "cell_type": "code",
   "execution_count": 7,
   "id": "1fd1a503-412e-419f-b3e0-e32bf829ed0d",
   "metadata": {},
   "outputs": [],
   "source": [
    "sol.columns = [c.lower() for c in sol.columns] #convert to lower case"
   ]
  },
  {
   "cell_type": "code",
   "execution_count": 8,
   "id": "0f3d1839-bc67-45b7-b1a0-8d8f60c62b50",
   "metadata": {},
   "outputs": [
    {
     "data": {
      "text/plain": [
       "<Axes: xlabel='Date'>"
      ]
     },
     "execution_count": 8,
     "metadata": {},
     "output_type": "execute_result"
    },
    {
     "data": {
      "image/png": "[encoded data removed]",
      "text/plain": [
       "<Figure size 640x480 with 1 Axes>"
      ]
     },
     "metadata": {},
     "output_type": "display_data"
    }
   ],
   "source": [
    "sol.plot.line(y=\"close\", use_index=True)"
   ]
  },
  {
   "cell_type": "code",
   "execution_count": 9,
   "id": "17bb4150-7dc3-4dcb-92ac-5b2149899563",
   "metadata": {},
   "outputs": [],
   "source": [
    "wiki = pd.read_csv(\"wikipedia_edits_sol.csv\", index_col=0, parse_dates=True)"
   ]
  },
  {
   "cell_type": "code",
   "execution_count": 10,
   "id": "10685b74-a2fb-4399-9a50-83d1fb0a986a",
   "metadata": {},
   "outputs": [
    {
     "data": {
      "text/html": [
       "<div>\n",
       "<style scoped>\n",
       "    .dataframe tbody tr th:only-of-type {\n",
       "        vertical-align: middle;\n",
       "    }\n",
       "\n",
       "    .dataframe tbody tr th {\n",
       "        vertical-align: top;\n",
       "    }\n",
       "\n",
       "    .dataframe thead th {\n",
       "        text-align: right;\n",
       "    }\n",
       "</style>\n",
       "<table border=\"1\" class=\"dataframe\">\n",
       "  <thead>\n",
       "    <tr style=\"text-align: right;\">\n",
       "      <th></th>\n",
       "      <th>edit_count</th>\n",
       "      <th>sentiment</th>\n",
       "      <th>neg_sentiment</th>\n",
       "    </tr>\n",
       "  </thead>\n",
       "  <tbody>\n",
       "    <tr>\n",
       "      <th>2009-04-06</th>\n",
       "      <td>0.0</td>\n",
       "      <td>0.0</td>\n",
       "      <td>0.0</td>\n",
       "    </tr>\n",
       "    <tr>\n",
       "      <th>2009-04-07</th>\n",
       "      <td>0.0</td>\n",
       "      <td>0.0</td>\n",
       "      <td>0.0</td>\n",
       "    </tr>\n",
       "    <tr>\n",
       "      <th>2009-04-08</th>\n",
       "      <td>0.0</td>\n",
       "      <td>0.0</td>\n",
       "      <td>0.0</td>\n",
       "    </tr>\n",
       "    <tr>\n",
       "      <th>2009-04-09</th>\n",
       "      <td>0.0</td>\n",
       "      <td>0.0</td>\n",
       "      <td>0.0</td>\n",
       "    </tr>\n",
       "    <tr>\n",
       "      <th>2009-04-10</th>\n",
       "      <td>0.0</td>\n",
       "      <td>0.0</td>\n",
       "      <td>0.0</td>\n",
       "    </tr>\n",
       "    <tr>\n",
       "      <th>...</th>\n",
       "      <td>...</td>\n",
       "      <td>...</td>\n",
       "      <td>...</td>\n",
       "    </tr>\n",
       "    <tr>\n",
       "      <th>2024-04-11</th>\n",
       "      <td>0.0</td>\n",
       "      <td>0.0</td>\n",
       "      <td>0.0</td>\n",
       "    </tr>\n",
       "    <tr>\n",
       "      <th>2024-04-12</th>\n",
       "      <td>0.0</td>\n",
       "      <td>0.0</td>\n",
       "      <td>0.0</td>\n",
       "    </tr>\n",
       "    <tr>\n",
       "      <th>2024-04-13</th>\n",
       "      <td>0.0</td>\n",
       "      <td>0.0</td>\n",
       "      <td>0.0</td>\n",
       "    </tr>\n",
       "    <tr>\n",
       "      <th>2024-04-14</th>\n",
       "      <td>0.0</td>\n",
       "      <td>0.0</td>\n",
       "      <td>0.0</td>\n",
       "    </tr>\n",
       "    <tr>\n",
       "      <th>2024-04-15</th>\n",
       "      <td>0.0</td>\n",
       "      <td>0.0</td>\n",
       "      <td>0.0</td>\n",
       "    </tr>\n",
       "  </tbody>\n",
       "</table>\n",
       "<p>5489 rows × 3 columns</p>\n",
       "</div>"
      ],
      "text/plain": [
       "            edit_count  sentiment  neg_sentiment\n",
       "2009-04-06         0.0        0.0            0.0\n",
       "2009-04-07         0.0        0.0            0.0\n",
       "2009-04-08         0.0        0.0            0.0\n",
       "2009-04-09         0.0        0.0            0.0\n",
       "2009-04-10         0.0        0.0            0.0\n",
       "...                ...        ...            ...\n",
       "2024-04-11         0.0        0.0            0.0\n",
       "2024-04-12         0.0        0.0            0.0\n",
       "2024-04-13         0.0        0.0            0.0\n",
       "2024-04-14         0.0        0.0            0.0\n",
       "2024-04-15         0.0        0.0            0.0\n",
       "\n",
       "[5489 rows x 3 columns]"
      ]
     },
     "execution_count": 10,
     "metadata": {},
     "output_type": "execute_result"
    }
   ],
   "source": [
    "wiki"
   ]
  },
  {
   "cell_type": "markdown",
   "id": "c7a6271a",
   "metadata": {},
   "source": [
    "### Preparing data for machine learning"
   ]
  },
  {
   "cell_type": "code",
   "execution_count": 11,
   "id": "9eff00c0",
   "metadata": {},
   "outputs": [],
   "source": [
    "wiki.index = wiki.index.tz_localize('UTC')"
   ]
  },
  {
   "cell_type": "code",
   "execution_count": 12,
   "id": "dbb1b8f3-2058-4e67-9b86-0aef8cfde65c",
   "metadata": {},
   "outputs": [],
   "source": [
    "sol = sol.merge(wiki, left_index=True, right_index=True)"
   ]
  },
  {
   "cell_type": "code",
   "execution_count": 13,
   "id": "8767cdef-7b18-4902-ab92-e2f9d802f174",
   "metadata": {},
   "outputs": [],
   "source": [
    "sol[\"tomorrow\"] = sol[\"close\"].shift(-1)"
   ]
  },
  {
   "cell_type": "code",
   "execution_count": 14,
   "id": "bef1484f-353d-4bdf-afbf-9274b396d8a2",
   "metadata": {},
   "outputs": [],
   "source": [
    "sol[\"target\"] = (sol[\"tomorrow\"] > sol[\"close\"]).astype(int)"
   ]
  },
  {
   "cell_type": "code",
   "execution_count": 15,
   "id": "c696cca8-ff0b-4735-b87d-5d41e6d8eccf",
   "metadata": {},
   "outputs": [
    {
     "data": {
      "text/plain": [
       "target\n",
       "1    737\n",
       "0    729\n",
       "Name: count, dtype: int64"
      ]
     },
     "execution_count": 15,
     "metadata": {},
     "output_type": "execute_result"
    }
   ],
   "source": [
    "sol[\"target\"].value_counts()"
   ]
  },
  {
   "cell_type": "code",
   "execution_count": 16,
   "id": "641e7710-24e0-408a-83e4-9c651fac29a7",
   "metadata": {},
   "outputs": [
    {
     "data": {
      "text/html": [
       "<div>\n",
       "<style scoped>\n",
       "    .dataframe tbody tr th:only-of-type {\n",
       "        vertical-align: middle;\n",
       "    }\n",
       "\n",
       "    .dataframe tbody tr th {\n",
       "        vertical-align: top;\n",
       "    }\n",
       "\n",
       "    .dataframe thead th {\n",
       "        text-align: right;\n",
       "    }\n",
       "</style>\n",
       "<table border=\"1\" class=\"dataframe\">\n",
       "  <thead>\n",
       "    <tr style=\"text-align: right;\">\n",
       "      <th></th>\n",
       "      <th>open</th>\n",
       "      <th>high</th>\n",
       "      <th>low</th>\n",
       "      <th>close</th>\n",
       "      <th>volume</th>\n",
       "      <th>dividends</th>\n",
       "      <th>stock splits</th>\n",
       "      <th>edit_count</th>\n",
       "      <th>sentiment</th>\n",
       "      <th>neg_sentiment</th>\n",
       "      <th>tomorrow</th>\n",
       "      <th>target</th>\n",
       "    </tr>\n",
       "  </thead>\n",
       "  <tbody>\n",
       "    <tr>\n",
       "      <th>2020-04-10 00:00:00+00:00</th>\n",
       "      <td>0.832005</td>\n",
       "      <td>1.313487</td>\n",
       "      <td>0.694187</td>\n",
       "      <td>0.951054</td>\n",
       "      <td>87364276</td>\n",
       "      <td>0.0</td>\n",
       "      <td>0.0</td>\n",
       "      <td>0.0</td>\n",
       "      <td>0.0</td>\n",
       "      <td>0.0</td>\n",
       "      <td>0.776819</td>\n",
       "      <td>0</td>\n",
       "    </tr>\n",
       "    <tr>\n",
       "      <th>2020-04-11 00:00:00+00:00</th>\n",
       "      <td>0.951054</td>\n",
       "      <td>1.049073</td>\n",
       "      <td>0.765020</td>\n",
       "      <td>0.776819</td>\n",
       "      <td>43862444</td>\n",
       "      <td>0.0</td>\n",
       "      <td>0.0</td>\n",
       "      <td>0.0</td>\n",
       "      <td>0.0</td>\n",
       "      <td>0.0</td>\n",
       "      <td>0.882507</td>\n",
       "      <td>1</td>\n",
       "    </tr>\n",
       "    <tr>\n",
       "      <th>2020-04-12 00:00:00+00:00</th>\n",
       "      <td>0.785448</td>\n",
       "      <td>0.956670</td>\n",
       "      <td>0.762426</td>\n",
       "      <td>0.882507</td>\n",
       "      <td>38736897</td>\n",
       "      <td>0.0</td>\n",
       "      <td>0.0</td>\n",
       "      <td>0.0</td>\n",
       "      <td>0.0</td>\n",
       "      <td>0.0</td>\n",
       "      <td>0.777832</td>\n",
       "      <td>0</td>\n",
       "    </tr>\n",
       "    <tr>\n",
       "      <th>2020-04-13 00:00:00+00:00</th>\n",
       "      <td>0.890760</td>\n",
       "      <td>0.891603</td>\n",
       "      <td>0.773976</td>\n",
       "      <td>0.777832</td>\n",
       "      <td>18211285</td>\n",
       "      <td>0.0</td>\n",
       "      <td>0.0</td>\n",
       "      <td>0.0</td>\n",
       "      <td>0.0</td>\n",
       "      <td>0.0</td>\n",
       "      <td>0.661925</td>\n",
       "      <td>0</td>\n",
       "    </tr>\n",
       "    <tr>\n",
       "      <th>2020-04-14 00:00:00+00:00</th>\n",
       "      <td>0.777832</td>\n",
       "      <td>0.796472</td>\n",
       "      <td>0.628169</td>\n",
       "      <td>0.661925</td>\n",
       "      <td>16747614</td>\n",
       "      <td>0.0</td>\n",
       "      <td>0.0</td>\n",
       "      <td>0.0</td>\n",
       "      <td>0.0</td>\n",
       "      <td>0.0</td>\n",
       "      <td>0.646651</td>\n",
       "      <td>0</td>\n",
       "    </tr>\n",
       "    <tr>\n",
       "      <th>...</th>\n",
       "      <td>...</td>\n",
       "      <td>...</td>\n",
       "      <td>...</td>\n",
       "      <td>...</td>\n",
       "      <td>...</td>\n",
       "      <td>...</td>\n",
       "      <td>...</td>\n",
       "      <td>...</td>\n",
       "      <td>...</td>\n",
       "      <td>...</td>\n",
       "      <td>...</td>\n",
       "      <td>...</td>\n",
       "    </tr>\n",
       "    <tr>\n",
       "      <th>2024-04-10 00:00:00+00:00</th>\n",
       "      <td>172.414261</td>\n",
       "      <td>175.322617</td>\n",
       "      <td>163.813126</td>\n",
       "      <td>173.437363</td>\n",
       "      <td>3344074648</td>\n",
       "      <td>0.0</td>\n",
       "      <td>0.0</td>\n",
       "      <td>0.0</td>\n",
       "      <td>0.0</td>\n",
       "      <td>0.0</td>\n",
       "      <td>172.576370</td>\n",
       "      <td>0</td>\n",
       "    </tr>\n",
       "    <tr>\n",
       "      <th>2024-04-11 00:00:00+00:00</th>\n",
       "      <td>173.437363</td>\n",
       "      <td>176.235519</td>\n",
       "      <td>170.393433</td>\n",
       "      <td>172.576370</td>\n",
       "      <td>2712334365</td>\n",
       "      <td>0.0</td>\n",
       "      <td>0.0</td>\n",
       "      <td>0.0</td>\n",
       "      <td>0.0</td>\n",
       "      <td>0.0</td>\n",
       "      <td>153.635468</td>\n",
       "      <td>0</td>\n",
       "    </tr>\n",
       "    <tr>\n",
       "      <th>2024-04-12 00:00:00+00:00</th>\n",
       "      <td>172.576370</td>\n",
       "      <td>175.808640</td>\n",
       "      <td>145.516388</td>\n",
       "      <td>153.635468</td>\n",
       "      <td>4727185451</td>\n",
       "      <td>0.0</td>\n",
       "      <td>0.0</td>\n",
       "      <td>0.0</td>\n",
       "      <td>0.0</td>\n",
       "      <td>0.0</td>\n",
       "      <td>139.341690</td>\n",
       "      <td>0</td>\n",
       "    </tr>\n",
       "    <tr>\n",
       "      <th>2024-04-13 00:00:00+00:00</th>\n",
       "      <td>153.634476</td>\n",
       "      <td>154.943954</td>\n",
       "      <td>119.833344</td>\n",
       "      <td>139.341690</td>\n",
       "      <td>8976793985</td>\n",
       "      <td>0.0</td>\n",
       "      <td>0.0</td>\n",
       "      <td>0.0</td>\n",
       "      <td>0.0</td>\n",
       "      <td>0.0</td>\n",
       "      <td>151.284943</td>\n",
       "      <td>1</td>\n",
       "    </tr>\n",
       "    <tr>\n",
       "      <th>2024-04-14 00:00:00+00:00</th>\n",
       "      <td>139.341690</td>\n",
       "      <td>152.501007</td>\n",
       "      <td>131.287170</td>\n",
       "      <td>151.284943</td>\n",
       "      <td>7110974218</td>\n",
       "      <td>0.0</td>\n",
       "      <td>0.0</td>\n",
       "      <td>0.0</td>\n",
       "      <td>0.0</td>\n",
       "      <td>0.0</td>\n",
       "      <td>NaN</td>\n",
       "      <td>0</td>\n",
       "    </tr>\n",
       "  </tbody>\n",
       "</table>\n",
       "<p>1466 rows × 12 columns</p>\n",
       "</div>"
      ],
      "text/plain": [
       "                                 open        high         low       close  \\\n",
       "2020-04-10 00:00:00+00:00    0.832005    1.313487    0.694187    0.951054   \n",
       "2020-04-11 00:00:00+00:00    0.951054    1.049073    0.765020    0.776819   \n",
       "2020-04-12 00:00:00+00:00    0.785448    0.956670    0.762426    0.882507   \n",
       "2020-04-13 00:00:00+00:00    0.890760    0.891603    0.773976    0.777832   \n",
       "2020-04-14 00:00:00+00:00    0.777832    0.796472    0.628169    0.661925   \n",
       "...                               ...         ...         ...         ...   \n",
       "2024-04-10 00:00:00+00:00  172.414261  175.322617  163.813126  173.437363   \n",
       "2024-04-11 00:00:00+00:00  173.437363  176.235519  170.393433  172.576370   \n",
       "2024-04-12 00:00:00+00:00  172.576370  175.808640  145.516388  153.635468   \n",
       "2024-04-13 00:00:00+00:00  153.634476  154.943954  119.833344  139.341690   \n",
       "2024-04-14 00:00:00+00:00  139.341690  152.501007  131.287170  151.284943   \n",
       "\n",
       "                               volume  dividends  stock splits  edit_count  \\\n",
       "2020-04-10 00:00:00+00:00    87364276        0.0           0.0         0.0   \n",
       "2020-04-11 00:00:00+00:00    43862444        0.0           0.0         0.0   \n",
       "2020-04-12 00:00:00+00:00    38736897        0.0           0.0         0.0   \n",
       "2020-04-13 00:00:00+00:00    18211285        0.0           0.0         0.0   \n",
       "2020-04-14 00:00:00+00:00    16747614        0.0           0.0         0.0   \n",
       "...                               ...        ...           ...         ...   \n",
       "2024-04-10 00:00:00+00:00  3344074648        0.0           0.0         0.0   \n",
       "2024-04-11 00:00:00+00:00  2712334365        0.0           0.0         0.0   \n",
       "2024-04-12 00:00:00+00:00  4727185451        0.0           0.0         0.0   \n",
       "2024-04-13 00:00:00+00:00  8976793985        0.0           0.0         0.0   \n",
       "2024-04-14 00:00:00+00:00  7110974218        0.0           0.0         0.0   \n",
       "\n",
       "                           sentiment  neg_sentiment    tomorrow  target  \n",
       "2020-04-10 00:00:00+00:00        0.0            0.0    0.776819       0  \n",
       "2020-04-11 00:00:00+00:00        0.0            0.0    0.882507       1  \n",
       "2020-04-12 00:00:00+00:00        0.0            0.0    0.777832       0  \n",
       "2020-04-13 00:00:00+00:00        0.0            0.0    0.661925       0  \n",
       "2020-04-14 00:00:00+00:00        0.0            0.0    0.646651       0  \n",
       "...                              ...            ...         ...     ...  \n",
       "2024-04-10 00:00:00+00:00        0.0            0.0  172.576370       0  \n",
       "2024-04-11 00:00:00+00:00        0.0            0.0  153.635468       0  \n",
       "2024-04-12 00:00:00+00:00        0.0            0.0  139.341690       0  \n",
       "2024-04-13 00:00:00+00:00        0.0            0.0  151.284943       1  \n",
       "2024-04-14 00:00:00+00:00        0.0            0.0         NaN       0  \n",
       "\n",
       "[1466 rows x 12 columns]"
      ]
     },
     "execution_count": 16,
     "metadata": {},
     "output_type": "execute_result"
    }
   ],
   "source": [
    "sol"
   ]
  },
  {
   "cell_type": "code",
   "execution_count": 18,
   "id": "4f781df2-f1a6-4499-ad69-8749daadc142",
   "metadata": {},
   "outputs": [
    {
     "data": {
      "text/html": [
       "<style>#sk-container-id-1 {color: black;}#sk-container-id-1 pre{padding: 0;}#sk-container-id-1 div.sk-toggleable {background-color: white;}#sk-container-id-1 label.sk-toggleable__label {cursor: pointer;display: block;width: 100%;margin-bottom: 0;padding: 0.3em;box-sizing: border-box;text-align: center;}#sk-container-id-1 label.sk-toggleable__label-arrow:before {content: \"▸\";float: left;margin-right: 0.25em;color: #696969;}#sk-container-id-1 label.sk-toggleable__label-arrow:hover:before {color: black;}#sk-container-id-1 div.sk-estimator:hover label.sk-toggleable__label-arrow:before {color: black;}#sk-container-id-1 div.sk-toggleable__content {max-height: 0;max-width: 0;overflow: hidden;text-align: left;background-color: #f0f8ff;}#sk-container-id-1 div.sk-toggleable__content pre {margin: 0.2em;color: black;border-radius: 0.25em;background-color: #f0f8ff;}#sk-container-id-1 input.sk-toggleable__control:checked~div.sk-toggleable__content {max-height: 200px;max-width: 100%;overflow: auto;}#sk-container-id-1 input.sk-toggleable__control:checked~label.sk-toggleable__label-arrow:before {content: \"▾\";}#sk-container-id-1 div.sk-estimator input.sk-toggleable__control:checked~label.sk-toggleable__label {background-color: #d4ebff;}#sk-container-id-1 div.sk-label input.sk-toggleable__control:checked~label.sk-toggleable__label {background-color: #d4ebff;}#sk-container-id-1 input.sk-hidden--visually {border: 0;clip: rect(1px 1px 1px 1px);clip: rect(1px, 1px, 1px, 1px);height: 1px;margin: -1px;overflow: hidden;padding: 0;position: absolute;width: 1px;}#sk-container-id-1 div.sk-estimator {font-family: monospace;background-color: #f0f8ff;border: 1px dotted black;border-radius: 0.25em;box-sizing: border-box;margin-bottom: 0.5em;}#sk-container-id-1 div.sk-estimator:hover {background-color: #d4ebff;}#sk-container-id-1 div.sk-parallel-item::after {content: \"\";width: 100%;border-bottom: 1px solid gray;flex-grow: 1;}#sk-container-id-1 div.sk-label:hover label.sk-toggleable__label {background-color: #d4ebff;}#sk-container-id-1 div.sk-serial::before {content: \"\";position: absolute;border-left: 1px solid gray;box-sizing: border-box;top: 0;bottom: 0;left: 50%;z-index: 0;}#sk-container-id-1 div.sk-serial {display: flex;flex-direction: column;align-items: center;background-color: white;padding-right: 0.2em;padding-left: 0.2em;position: relative;}#sk-container-id-1 div.sk-item {position: relative;z-index: 1;}#sk-container-id-1 div.sk-parallel {display: flex;align-items: stretch;justify-content: center;background-color: white;position: relative;}#sk-container-id-1 div.sk-item::before, #sk-container-id-1 div.sk-parallel-item::before {content: \"\";position: absolute;border-left: 1px solid gray;box-sizing: border-box;top: 0;bottom: 0;left: 50%;z-index: -1;}#sk-container-id-1 div.sk-parallel-item {display: flex;flex-direction: column;z-index: 1;position: relative;background-color: white;}#sk-container-id-1 div.sk-parallel-item:first-child::after {align-self: flex-end;width: 50%;}#sk-container-id-1 div.sk-parallel-item:last-child::after {align-self: flex-start;width: 50%;}#sk-container-id-1 div.sk-parallel-item:only-child::after {width: 0;}#sk-container-id-1 div.sk-dashed-wrapped {border: 1px dashed gray;margin: 0 0.4em 0.5em 0.4em;box-sizing: border-box;padding-bottom: 0.4em;background-color: white;}#sk-container-id-1 div.sk-label label {font-family: monospace;font-weight: bold;display: inline-block;line-height: 1.2em;}#sk-container-id-1 div.sk-label-container {text-align: center;}#sk-container-id-1 div.sk-container {/* jupyter's `normalize.less` sets `[hidden] { display: none; }` but bootstrap.min.css set `[hidden] { display: none !important; }` so we also need the `!important` here to be able to override the default hidden behavior on the sphinx rendered scikit-learn.org. See: https://github.com/scikit-learn/scikit-learn/issues/21755 */display: inline-block !important;position: relative;}#sk-container-id-1 div.sk-text-repr-fallback {display: none;}</style><div id=\"sk-container-id-1\" class=\"sk-top-container\"><div class=\"sk-text-repr-fallback\"><pre>RandomForestClassifier(min_samples_split=50, random_state=1)</pre><b>In a Jupyter environment, please rerun this cell to show the HTML representation or trust the notebook. <br />On GitHub, the HTML representation is unable to render, please try loading this page with nbviewer.org.</b></div><div class=\"sk-container\" hidden><div class=\"sk-item\"><div class=\"sk-estimator sk-toggleable\"><input class=\"sk-toggleable__control sk-hidden--visually\" id=\"sk-estimator-id-1\" type=\"checkbox\" checked><label for=\"sk-estimator-id-1\" class=\"sk-toggleable__label sk-toggleable__label-arrow\">RandomForestClassifier</label><div class=\"sk-toggleable__content\"><pre>RandomForestClassifier(min_samples_split=50, random_state=1)</pre></div></div></div></div></div>"
      ],
      "text/plain": [
       "RandomForestClassifier(min_samples_split=50, random_state=1)"
      ]
     },
     "execution_count": 18,
     "metadata": {},
     "output_type": "execute_result"
    }
   ],
   "source": [
    "from sklearn.ensemble import RandomForestClassifier\n",
    "\n",
    "model = RandomForestClassifier(n_estimators=100, min_samples_split=50, random_state=1)\n",
    "\n",
    "train = sol.iloc[:-200]\n",
    "test = sol.iloc[-200:]\n",
    "\n",
    "predictors = [\"close\", \"volume\", \"open\", \"high\", \"low\", \"edit_count\", \"sentiment\", \"neg_sentiment\"]\n",
    "model.fit(train[predictors], train[\"target\"])"
   ]
  },
  {
   "cell_type": "code",
   "execution_count": 19,
   "id": "5db58bd9-009f-400c-9692-1d0787d40de8",
   "metadata": {},
   "outputs": [
    {
     "data": {
      "text/plain": [
       "0.546875"
      ]
     },
     "execution_count": 19,
     "metadata": {},
     "output_type": "execute_result"
    }
   ],
   "source": [
    "from sklearn.metrics import precision_score\n",
    "\n",
    "preds = model.predict(test[predictors])\n",
    "preds = pd.Series(preds, index=test.index)\n",
    "precision_score(test[\"target\"], preds)"
   ]
  },
  {
   "cell_type": "code",
   "execution_count": 20,
   "id": "bce7d7dd-4f0d-4405-ad17-42516045941f",
   "metadata": {},
   "outputs": [],
   "source": [
    "def predict(train, test, predictors, model):\n",
    "    model.fit(train[predictors], train[\"target\"])\n",
    "    preds = model.predict(test[predictors])\n",
    "    preds = pd.Series(preds, index=test.index, name=\"predictions\")\n",
    "    combined = pd.concat([test[\"target\"], preds], axis=1)\n",
    "    return combined"
   ]
  },
  {
   "cell_type": "markdown",
   "id": "44dbfbcb",
   "metadata": {},
   "source": [
    "### Evaluating error with backtesting"
   ]
  },
  {
   "cell_type": "code",
   "execution_count": 21,
   "id": "bec7bbe6-7c57-4ae9-82ca-404182d8218d",
   "metadata": {},
   "outputs": [],
   "source": [
    "def backtest(data, model, predictors, start=1095, step=150):\n",
    "    all_predictions = []\n",
    "\n",
    "    for i in range(start, data.shape[0], step):\n",
    "        train = data.iloc[0:i].copy()\n",
    "        test = data.iloc[i:(i+step)].copy()\n",
    "        predictions = predict(train, test, predictors, model)\n",
    "        all_predictions.append(predictions)\n",
    "    \n",
    "    return pd.concat(all_predictions)"
   ]
  },
  {
   "cell_type": "markdown",
   "id": "77999656",
   "metadata": {},
   "source": [
    "### Using an XGBoost model"
   ]
  },
  {
   "cell_type": "code",
   "execution_count": 23,
   "id": "0d70183c-1ee0-48e8-b012-16804463e6d0",
   "metadata": {},
   "outputs": [],
   "source": [
    "from xgboost import XGBClassifier\n",
    "\n",
    "model = XGBClassifier(random_state=1, learning_rate=.1, n_estimators=200)\n",
    "predictions = backtest(sol, model, predictors)"
   ]
  },
  {
   "cell_type": "code",
   "execution_count": 24,
   "id": "c363f4ad-68ae-4733-8cfa-fc61b1a15e6f",
   "metadata": {},
   "outputs": [
    {
     "data": {
      "text/plain": [
       "predictions\n",
       "1    206\n",
       "0    165\n",
       "Name: count, dtype: int64"
      ]
     },
     "execution_count": 24,
     "metadata": {},
     "output_type": "execute_result"
    }
   ],
   "source": [
    "predictions[\"predictions\"].value_counts()"
   ]
  },
  {
   "cell_type": "code",
   "execution_count": 25,
   "id": "ed54e2de-089d-450b-8a5e-88d4a2dbdfcd",
   "metadata": {},
   "outputs": [
    {
     "data": {
      "text/plain": [
       "0.5145631067961165"
      ]
     },
     "execution_count": 25,
     "metadata": {},
     "output_type": "execute_result"
    }
   ],
   "source": [
    "precision_score(predictions[\"target\"], predictions[\"predictions\"])"
   ]
  },
  {
   "cell_type": "code",
   "execution_count": 26,
   "id": "ef3a6fd5-4e97-4011-be28-9fd115c8b004",
   "metadata": {},
   "outputs": [],
   "source": [
    "def compute_rolling(eth):\n",
    "    horizons = [2,7,60,365]\n",
    "    new_predictors = [\"close\", \"sentiment\", \"neg_sentiment\"]\n",
    "\n",
    "    for horizon in horizons:\n",
    "        rolling_averages = sol.rolling(horizon, min_periods=1).mean()\n",
    "\n",
    "        ratio_column = f\"close_ratio_{horizon}\"\n",
    "        sol[ratio_column] = sol[\"close\"] / rolling_averages[\"close\"]\n",
    "        \n",
    "        edit_column = f\"edit_{horizon}\"\n",
    "        sol[edit_column] = rolling_averages[\"edit_count\"]\n",
    "\n",
    "        rolling = eth.rolling(horizon, closed='left', min_periods=1).mean()\n",
    "        trend_column = f\"trend_{horizon}\"\n",
    "        sol[trend_column] = rolling[\"target\"]\n",
    "\n",
    "        new_predictors+= [ratio_column, trend_column, edit_column]\n",
    "    return sol, new_predictors"
   ]
  },
  {
   "cell_type": "code",
   "execution_count": 27,
   "id": "bb127d2d-5bef-42d1-89ad-759bdbb45a7e",
   "metadata": {},
   "outputs": [],
   "source": [
    "sol, new_predictors = compute_rolling(sol.copy())"
   ]
  },
  {
   "cell_type": "code",
   "execution_count": 28,
   "id": "159bf89c-e329-4d1c-a21d-fed642d2dad2",
   "metadata": {},
   "outputs": [],
   "source": [
    "predictions = backtest(sol, model, new_predictors)"
   ]
  },
  {
   "cell_type": "code",
   "execution_count": 29,
   "id": "ab6dbc06-6137-4f5b-8276-731c94541c29",
   "metadata": {},
   "outputs": [
    {
     "data": {
      "text/plain": [
       "0.5376344086021505"
      ]
     },
     "execution_count": 29,
     "metadata": {},
     "output_type": "execute_result"
    }
   ],
   "source": [
    "precision_score(predictions[\"target\"], predictions[\"predictions\"])"
   ]
  },
  {
   "cell_type": "code",
   "execution_count": 30,
   "id": "4187bd69-6af6-4e18-a6a6-069a36dc841e",
   "metadata": {},
   "outputs": [
    {
     "data": {
      "text/html": [
       "<div>\n",
       "<style scoped>\n",
       "    .dataframe tbody tr th:only-of-type {\n",
       "        vertical-align: middle;\n",
       "    }\n",
       "\n",
       "    .dataframe tbody tr th {\n",
       "        vertical-align: top;\n",
       "    }\n",
       "\n",
       "    .dataframe thead th {\n",
       "        text-align: right;\n",
       "    }\n",
       "</style>\n",
       "<table border=\"1\" class=\"dataframe\">\n",
       "  <thead>\n",
       "    <tr style=\"text-align: right;\">\n",
       "      <th></th>\n",
       "      <th>target</th>\n",
       "      <th>predictions</th>\n",
       "    </tr>\n",
       "  </thead>\n",
       "  <tbody>\n",
       "    <tr>\n",
       "      <th>2023-04-10 00:00:00+00:00</th>\n",
       "      <td>1</td>\n",
       "      <td>0</td>\n",
       "    </tr>\n",
       "    <tr>\n",
       "      <th>2023-04-11 00:00:00+00:00</th>\n",
       "      <td>1</td>\n",
       "      <td>0</td>\n",
       "    </tr>\n",
       "    <tr>\n",
       "      <th>2023-04-12 00:00:00+00:00</th>\n",
       "      <td>1</td>\n",
       "      <td>0</td>\n",
       "    </tr>\n",
       "    <tr>\n",
       "      <th>2023-04-13 00:00:00+00:00</th>\n",
       "      <td>1</td>\n",
       "      <td>0</td>\n",
       "    </tr>\n",
       "    <tr>\n",
       "      <th>2023-04-14 00:00:00+00:00</th>\n",
       "      <td>0</td>\n",
       "      <td>0</td>\n",
       "    </tr>\n",
       "    <tr>\n",
       "      <th>...</th>\n",
       "      <td>...</td>\n",
       "      <td>...</td>\n",
       "    </tr>\n",
       "    <tr>\n",
       "      <th>2024-04-10 00:00:00+00:00</th>\n",
       "      <td>0</td>\n",
       "      <td>0</td>\n",
       "    </tr>\n",
       "    <tr>\n",
       "      <th>2024-04-11 00:00:00+00:00</th>\n",
       "      <td>0</td>\n",
       "      <td>0</td>\n",
       "    </tr>\n",
       "    <tr>\n",
       "      <th>2024-04-12 00:00:00+00:00</th>\n",
       "      <td>0</td>\n",
       "      <td>0</td>\n",
       "    </tr>\n",
       "    <tr>\n",
       "      <th>2024-04-13 00:00:00+00:00</th>\n",
       "      <td>1</td>\n",
       "      <td>0</td>\n",
       "    </tr>\n",
       "    <tr>\n",
       "      <th>2024-04-14 00:00:00+00:00</th>\n",
       "      <td>0</td>\n",
       "      <td>0</td>\n",
       "    </tr>\n",
       "  </tbody>\n",
       "</table>\n",
       "<p>371 rows × 2 columns</p>\n",
       "</div>"
      ],
      "text/plain": [
       "                           target  predictions\n",
       "2023-04-10 00:00:00+00:00       1            0\n",
       "2023-04-11 00:00:00+00:00       1            0\n",
       "2023-04-12 00:00:00+00:00       1            0\n",
       "2023-04-13 00:00:00+00:00       1            0\n",
       "2023-04-14 00:00:00+00:00       0            0\n",
       "...                           ...          ...\n",
       "2024-04-10 00:00:00+00:00       0            0\n",
       "2024-04-11 00:00:00+00:00       0            0\n",
       "2024-04-12 00:00:00+00:00       0            0\n",
       "2024-04-13 00:00:00+00:00       1            0\n",
       "2024-04-14 00:00:00+00:00       0            0\n",
       "\n",
       "[371 rows x 2 columns]"
      ]
     },
     "execution_count": 30,
     "metadata": {},
     "output_type": "execute_result"
    }
   ],
   "source": [
    "predictions"
   ]
  }
 ],
 "metadata": {
  "kernelspec": {
   "display_name": "Python 3 (ipykernel)",
   "language": "python",
   "name": "python3"
  },
  "language_info": {
   "codemirror_mode": {
    "name": "ipython",
    "version": 3
   },
   "file_extension": ".py",
   "mimetype": "text/x-python",
   "name": "python",
   "nbconvert_exporter": "python",
   "pygments_lexer": "ipython3",
   "version": "3.11.5"
  }
 },
 "nbformat": 4,
 "nbformat_minor": 5
}
